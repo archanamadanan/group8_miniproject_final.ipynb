{
 "cells": [
  {
   "cell_type": "code",
   "execution_count": 1,
   "id": "8437a3e3",
   "metadata": {},
   "outputs": [],
   "source": [
    "# import libraries\n",
    "import numpy as np\n",
    "import pandas as pd\n",
    "import seaborn as sns\n",
    "import matplotlib.pyplot as plt\n"
   ]
  },
  {
   "cell_type": "code",
   "execution_count": 129,
   "id": "5614abc7",
   "metadata": {},
   "outputs": [
    {
     "data": {
      "text/html": [
       "<div>\n",
       "<style scoped>\n",
       "    .dataframe tbody tr th:only-of-type {\n",
       "        vertical-align: middle;\n",
       "    }\n",
       "\n",
       "    .dataframe tbody tr th {\n",
       "        vertical-align: top;\n",
       "    }\n",
       "\n",
       "    .dataframe thead th {\n",
       "        text-align: right;\n",
       "    }\n",
       "</style>\n",
       "<table border=\"1\" class=\"dataframe\">\n",
       "  <thead>\n",
       "    <tr style=\"text-align: right;\">\n",
       "      <th></th>\n",
       "      <th>STATE</th>\n",
       "      <th>CONSTITUENCY</th>\n",
       "      <th>NAME</th>\n",
       "      <th>WINNER</th>\n",
       "      <th>PARTY</th>\n",
       "      <th>SYMBOL</th>\n",
       "      <th>GENDER</th>\n",
       "      <th>CRIMINAL\\nCASES</th>\n",
       "      <th>AGE</th>\n",
       "      <th>CATEGORY</th>\n",
       "      <th>EDUCATION</th>\n",
       "      <th>ASSETS</th>\n",
       "      <th>LIABILITIES</th>\n",
       "      <th>GENERAL\\nVOTES</th>\n",
       "      <th>POSTAL\\nVOTES</th>\n",
       "      <th>TOTAL\\nVOTES</th>\n",
       "      <th>OVER TOTAL ELECTORS \\nIN CONSTITUENCY</th>\n",
       "      <th>OVER TOTAL VOTES POLLED \\nIN CONSTITUENCY</th>\n",
       "      <th>TOTAL ELECTORS</th>\n",
       "    </tr>\n",
       "  </thead>\n",
       "  <tbody>\n",
       "    <tr>\n",
       "      <th>0</th>\n",
       "      <td>Telangana</td>\n",
       "      <td>ADILABAD</td>\n",
       "      <td>SOYAM BAPU RAO</td>\n",
       "      <td>1</td>\n",
       "      <td>BJP</td>\n",
       "      <td>Lotus</td>\n",
       "      <td>MALE</td>\n",
       "      <td>52</td>\n",
       "      <td>52.0</td>\n",
       "      <td>ST</td>\n",
       "      <td>12th Pass</td>\n",
       "      <td>Rs 30,99,414\\n ~ 30 Lacs+</td>\n",
       "      <td>Rs 2,31,450\\n ~ 2 Lacs+</td>\n",
       "      <td>376892</td>\n",
       "      <td>482</td>\n",
       "      <td>377374</td>\n",
       "      <td>25.330684</td>\n",
       "      <td>35.468248</td>\n",
       "      <td>1489790</td>\n",
       "    </tr>\n",
       "    <tr>\n",
       "      <th>1</th>\n",
       "      <td>Telangana</td>\n",
       "      <td>ADILABAD</td>\n",
       "      <td>Godam Nagesh</td>\n",
       "      <td>0</td>\n",
       "      <td>TRS</td>\n",
       "      <td>Car</td>\n",
       "      <td>MALE</td>\n",
       "      <td>0</td>\n",
       "      <td>54.0</td>\n",
       "      <td>ST</td>\n",
       "      <td>Post Graduate</td>\n",
       "      <td>Rs 1,84,77,888\\n ~ 1 Crore+</td>\n",
       "      <td>Rs 8,47,000\\n ~ 8 Lacs+</td>\n",
       "      <td>318665</td>\n",
       "      <td>149</td>\n",
       "      <td>318814</td>\n",
       "      <td>21.399929</td>\n",
       "      <td>29.964370</td>\n",
       "      <td>1489790</td>\n",
       "    </tr>\n",
       "    <tr>\n",
       "      <th>2</th>\n",
       "      <td>Telangana</td>\n",
       "      <td>ADILABAD</td>\n",
       "      <td>RATHOD RAMESH</td>\n",
       "      <td>0</td>\n",
       "      <td>INC</td>\n",
       "      <td>Hand</td>\n",
       "      <td>MALE</td>\n",
       "      <td>3</td>\n",
       "      <td>52.0</td>\n",
       "      <td>ST</td>\n",
       "      <td>12th Pass</td>\n",
       "      <td>Rs 3,64,91,000\\n ~ 3 Crore+</td>\n",
       "      <td>Rs 1,53,00,000\\n ~ 1 Crore+</td>\n",
       "      <td>314057</td>\n",
       "      <td>181</td>\n",
       "      <td>314238</td>\n",
       "      <td>21.092771</td>\n",
       "      <td>29.534285</td>\n",
       "      <td>1489790</td>\n",
       "    </tr>\n",
       "    <tr>\n",
       "      <th>3</th>\n",
       "      <td>Telangana</td>\n",
       "      <td>ADILABAD</td>\n",
       "      <td>NOTA</td>\n",
       "      <td>0</td>\n",
       "      <td>NOTA</td>\n",
       "      <td>NaN</td>\n",
       "      <td>NaN</td>\n",
       "      <td>NaN</td>\n",
       "      <td>NaN</td>\n",
       "      <td>NaN</td>\n",
       "      <td>NaN</td>\n",
       "      <td>NaN</td>\n",
       "      <td>NaN</td>\n",
       "      <td>13030</td>\n",
       "      <td>6</td>\n",
       "      <td>13036</td>\n",
       "      <td>0.875023</td>\n",
       "      <td>1.225214</td>\n",
       "      <td>1489790</td>\n",
       "    </tr>\n",
       "    <tr>\n",
       "      <th>4</th>\n",
       "      <td>Uttar Pradesh</td>\n",
       "      <td>AGRA</td>\n",
       "      <td>Satyapal Singh Baghel</td>\n",
       "      <td>1</td>\n",
       "      <td>BJP</td>\n",
       "      <td>Lotus</td>\n",
       "      <td>MALE</td>\n",
       "      <td>5</td>\n",
       "      <td>58.0</td>\n",
       "      <td>SC</td>\n",
       "      <td>Doctorate</td>\n",
       "      <td>Rs 7,42,74,036\\n ~ 7 Crore+</td>\n",
       "      <td>Rs 86,06,522\\n ~ 86 Lacs+</td>\n",
       "      <td>644459</td>\n",
       "      <td>2416</td>\n",
       "      <td>646875</td>\n",
       "      <td>33.383823</td>\n",
       "      <td>56.464615</td>\n",
       "      <td>1937690</td>\n",
       "    </tr>\n",
       "  </tbody>\n",
       "</table>\n",
       "</div>"
      ],
      "text/plain": [
       "           STATE CONSTITUENCY                   NAME  WINNER PARTY SYMBOL  \\\n",
       "0      Telangana     ADILABAD         SOYAM BAPU RAO       1   BJP  Lotus   \n",
       "1      Telangana     ADILABAD           Godam Nagesh       0   TRS    Car   \n",
       "2      Telangana     ADILABAD          RATHOD RAMESH       0   INC   Hand   \n",
       "3      Telangana     ADILABAD                   NOTA       0  NOTA    NaN   \n",
       "4  Uttar Pradesh         AGRA  Satyapal Singh Baghel       1   BJP  Lotus   \n",
       "\n",
       "  GENDER CRIMINAL\\nCASES   AGE CATEGORY      EDUCATION  \\\n",
       "0   MALE              52  52.0       ST      12th Pass   \n",
       "1   MALE               0  54.0       ST  Post Graduate   \n",
       "2   MALE               3  52.0       ST      12th Pass   \n",
       "3    NaN             NaN   NaN      NaN            NaN   \n",
       "4   MALE               5  58.0       SC      Doctorate   \n",
       "\n",
       "                        ASSETS                  LIABILITIES  GENERAL\\nVOTES  \\\n",
       "0    Rs 30,99,414\\n ~ 30 Lacs+      Rs 2,31,450\\n ~ 2 Lacs+          376892   \n",
       "1  Rs 1,84,77,888\\n ~ 1 Crore+      Rs 8,47,000\\n ~ 8 Lacs+          318665   \n",
       "2  Rs 3,64,91,000\\n ~ 3 Crore+  Rs 1,53,00,000\\n ~ 1 Crore+          314057   \n",
       "3                          NaN                          NaN           13030   \n",
       "4  Rs 7,42,74,036\\n ~ 7 Crore+    Rs 86,06,522\\n ~ 86 Lacs+          644459   \n",
       "\n",
       "   POSTAL\\nVOTES  TOTAL\\nVOTES  OVER TOTAL ELECTORS \\nIN CONSTITUENCY  \\\n",
       "0            482        377374                              25.330684   \n",
       "1            149        318814                              21.399929   \n",
       "2            181        314238                              21.092771   \n",
       "3              6         13036                               0.875023   \n",
       "4           2416        646875                              33.383823   \n",
       "\n",
       "   OVER TOTAL VOTES POLLED \\nIN CONSTITUENCY  TOTAL ELECTORS  \n",
       "0                                  35.468248         1489790  \n",
       "1                                  29.964370         1489790  \n",
       "2                                  29.534285         1489790  \n",
       "3                                   1.225214         1489790  \n",
       "4                                  56.464615         1937690  "
      ]
     },
     "execution_count": 129,
     "metadata": {},
     "output_type": "execute_result"
    }
   ],
   "source": [
    "#read data set\n",
    "data=pd.read_csv(r'C:\\Users\\shah\\Downloads\\LS_2.0.csv')\n",
    "data.head(5)"
   ]
  },
  {
   "cell_type": "code",
   "execution_count": null,
   "id": "a0e66a5e-5540-47f8-ad92-036797af6cb7",
   "metadata": {},
   "outputs": [],
   "source": []
  },
  {
   "cell_type": "markdown",
   "id": "b476e5d3",
   "metadata": {},
   "source": [
    "# 1. data description"
   ]
  },
  {
   "cell_type": "code",
   "execution_count": 130,
   "id": "e8c0c790",
   "metadata": {},
   "outputs": [
    {
     "data": {
      "text/plain": [
       "(2263, 19)"
      ]
     },
     "execution_count": 130,
     "metadata": {},
     "output_type": "execute_result"
    }
   ],
   "source": [
    "data.shape"
   ]
  },
  {
   "cell_type": "code",
   "execution_count": 131,
   "id": "b07f90c3",
   "metadata": {},
   "outputs": [
    {
     "data": {
      "text/plain": [
       "STATE                                          0\n",
       "CONSTITUENCY                                   0\n",
       "NAME                                           0\n",
       "WINNER                                         0\n",
       "PARTY                                          0\n",
       "SYMBOL                                       245\n",
       "GENDER                                       245\n",
       "CRIMINAL\\nCASES                              245\n",
       "AGE                                          245\n",
       "CATEGORY                                     245\n",
       "EDUCATION                                    245\n",
       "ASSETS                                       245\n",
       "LIABILITIES                                  245\n",
       "GENERAL\\nVOTES                                 0\n",
       "POSTAL\\nVOTES                                  0\n",
       "TOTAL\\nVOTES                                   0\n",
       "OVER TOTAL ELECTORS \\nIN CONSTITUENCY          0\n",
       "OVER TOTAL VOTES POLLED \\nIN CONSTITUENCY      0\n",
       "TOTAL ELECTORS                                 0\n",
       "dtype: int64"
      ]
     },
     "execution_count": 131,
     "metadata": {},
     "output_type": "execute_result"
    }
   ],
   "source": [
    "data.isna().sum()"
   ]
  },
  {
   "cell_type": "code",
   "execution_count": 132,
   "id": "24845f45",
   "metadata": {},
   "outputs": [
    {
     "name": "stdout",
     "output_type": "stream",
     "text": [
      "<class 'pandas.core.frame.DataFrame'>\n",
      "RangeIndex: 2263 entries, 0 to 2262\n",
      "Data columns (total 19 columns):\n",
      " #   Column                                    Non-Null Count  Dtype  \n",
      "---  ------                                    --------------  -----  \n",
      " 0   STATE                                     2263 non-null   object \n",
      " 1   CONSTITUENCY                              2263 non-null   object \n",
      " 2   NAME                                      2263 non-null   object \n",
      " 3   WINNER                                    2263 non-null   int64  \n",
      " 4   PARTY                                     2263 non-null   object \n",
      " 5   SYMBOL                                    2018 non-null   object \n",
      " 6   GENDER                                    2018 non-null   object \n",
      " 7   CRIMINAL\n",
      "CASES                            2018 non-null   object \n",
      " 8   AGE                                       2018 non-null   float64\n",
      " 9   CATEGORY                                  2018 non-null   object \n",
      " 10  EDUCATION                                 2018 non-null   object \n",
      " 11  ASSETS                                    2018 non-null   object \n",
      " 12  LIABILITIES                               2018 non-null   object \n",
      " 13  GENERAL\n",
      "VOTES                             2263 non-null   int64  \n",
      " 14  POSTAL\n",
      "VOTES                              2263 non-null   int64  \n",
      " 15  TOTAL\n",
      "VOTES                               2263 non-null   int64  \n",
      " 16  OVER TOTAL ELECTORS \n",
      "IN CONSTITUENCY      2263 non-null   float64\n",
      " 17  OVER TOTAL VOTES POLLED \n",
      "IN CONSTITUENCY  2263 non-null   float64\n",
      " 18  TOTAL ELECTORS                            2263 non-null   int64  \n",
      "dtypes: float64(3), int64(5), object(11)\n",
      "memory usage: 336.0+ KB\n"
     ]
    }
   ],
   "source": [
    "data.info()"
   ]
  },
  {
   "cell_type": "code",
   "execution_count": 133,
   "id": "d8889626",
   "metadata": {},
   "outputs": [
    {
     "data": {
      "text/html": [
       "<div>\n",
       "<style scoped>\n",
       "    .dataframe tbody tr th:only-of-type {\n",
       "        vertical-align: middle;\n",
       "    }\n",
       "\n",
       "    .dataframe tbody tr th {\n",
       "        vertical-align: top;\n",
       "    }\n",
       "\n",
       "    .dataframe thead th {\n",
       "        text-align: right;\n",
       "    }\n",
       "</style>\n",
       "<table border=\"1\" class=\"dataframe\">\n",
       "  <thead>\n",
       "    <tr style=\"text-align: right;\">\n",
       "      <th></th>\n",
       "      <th>WINNER</th>\n",
       "      <th>AGE</th>\n",
       "      <th>GENERAL\\nVOTES</th>\n",
       "      <th>POSTAL\\nVOTES</th>\n",
       "      <th>TOTAL\\nVOTES</th>\n",
       "      <th>OVER TOTAL ELECTORS \\nIN CONSTITUENCY</th>\n",
       "      <th>OVER TOTAL VOTES POLLED \\nIN CONSTITUENCY</th>\n",
       "      <th>TOTAL ELECTORS</th>\n",
       "    </tr>\n",
       "  </thead>\n",
       "  <tbody>\n",
       "    <tr>\n",
       "      <th>count</th>\n",
       "      <td>2263.000000</td>\n",
       "      <td>2018.000000</td>\n",
       "      <td>2.263000e+03</td>\n",
       "      <td>2263.000000</td>\n",
       "      <td>2.263000e+03</td>\n",
       "      <td>2263.000000</td>\n",
       "      <td>2263.000000</td>\n",
       "      <td>2.263000e+03</td>\n",
       "    </tr>\n",
       "    <tr>\n",
       "      <th>mean</th>\n",
       "      <td>0.238179</td>\n",
       "      <td>52.273538</td>\n",
       "      <td>2.615991e+05</td>\n",
       "      <td>990.710561</td>\n",
       "      <td>2.625898e+05</td>\n",
       "      <td>15.811412</td>\n",
       "      <td>23.190525</td>\n",
       "      <td>1.658016e+06</td>\n",
       "    </tr>\n",
       "    <tr>\n",
       "      <th>std</th>\n",
       "      <td>0.426064</td>\n",
       "      <td>11.869373</td>\n",
       "      <td>2.549906e+05</td>\n",
       "      <td>1602.839174</td>\n",
       "      <td>2.559822e+05</td>\n",
       "      <td>14.962861</td>\n",
       "      <td>21.564758</td>\n",
       "      <td>3.145187e+05</td>\n",
       "    </tr>\n",
       "    <tr>\n",
       "      <th>min</th>\n",
       "      <td>0.000000</td>\n",
       "      <td>25.000000</td>\n",
       "      <td>1.339000e+03</td>\n",
       "      <td>0.000000</td>\n",
       "      <td>1.342000e+03</td>\n",
       "      <td>0.097941</td>\n",
       "      <td>1.000039</td>\n",
       "      <td>5.518900e+04</td>\n",
       "    </tr>\n",
       "    <tr>\n",
       "      <th>25%</th>\n",
       "      <td>0.000000</td>\n",
       "      <td>43.250000</td>\n",
       "      <td>2.103450e+04</td>\n",
       "      <td>57.000000</td>\n",
       "      <td>2.116250e+04</td>\n",
       "      <td>1.296518</td>\n",
       "      <td>1.899502</td>\n",
       "      <td>1.530014e+06</td>\n",
       "    </tr>\n",
       "    <tr>\n",
       "      <th>50%</th>\n",
       "      <td>0.000000</td>\n",
       "      <td>52.000000</td>\n",
       "      <td>1.539340e+05</td>\n",
       "      <td>316.000000</td>\n",
       "      <td>1.544890e+05</td>\n",
       "      <td>10.510553</td>\n",
       "      <td>16.221721</td>\n",
       "      <td>1.679030e+06</td>\n",
       "    </tr>\n",
       "    <tr>\n",
       "      <th>75%</th>\n",
       "      <td>0.000000</td>\n",
       "      <td>61.000000</td>\n",
       "      <td>4.858040e+05</td>\n",
       "      <td>1385.000000</td>\n",
       "      <td>4.872315e+05</td>\n",
       "      <td>29.468185</td>\n",
       "      <td>42.590233</td>\n",
       "      <td>1.816857e+06</td>\n",
       "    </tr>\n",
       "    <tr>\n",
       "      <th>max</th>\n",
       "      <td>1.000000</td>\n",
       "      <td>86.000000</td>\n",
       "      <td>1.066824e+06</td>\n",
       "      <td>19367.000000</td>\n",
       "      <td>1.068569e+06</td>\n",
       "      <td>51.951012</td>\n",
       "      <td>74.411856</td>\n",
       "      <td>3.150313e+06</td>\n",
       "    </tr>\n",
       "  </tbody>\n",
       "</table>\n",
       "</div>"
      ],
      "text/plain": [
       "            WINNER          AGE  GENERAL\\nVOTES  POSTAL\\nVOTES  TOTAL\\nVOTES  \\\n",
       "count  2263.000000  2018.000000    2.263000e+03    2263.000000  2.263000e+03   \n",
       "mean      0.238179    52.273538    2.615991e+05     990.710561  2.625898e+05   \n",
       "std       0.426064    11.869373    2.549906e+05    1602.839174  2.559822e+05   \n",
       "min       0.000000    25.000000    1.339000e+03       0.000000  1.342000e+03   \n",
       "25%       0.000000    43.250000    2.103450e+04      57.000000  2.116250e+04   \n",
       "50%       0.000000    52.000000    1.539340e+05     316.000000  1.544890e+05   \n",
       "75%       0.000000    61.000000    4.858040e+05    1385.000000  4.872315e+05   \n",
       "max       1.000000    86.000000    1.066824e+06   19367.000000  1.068569e+06   \n",
       "\n",
       "       OVER TOTAL ELECTORS \\nIN CONSTITUENCY  \\\n",
       "count                            2263.000000   \n",
       "mean                               15.811412   \n",
       "std                                14.962861   \n",
       "min                                 0.097941   \n",
       "25%                                 1.296518   \n",
       "50%                                10.510553   \n",
       "75%                                29.468185   \n",
       "max                                51.951012   \n",
       "\n",
       "       OVER TOTAL VOTES POLLED \\nIN CONSTITUENCY  TOTAL ELECTORS  \n",
       "count                                2263.000000    2.263000e+03  \n",
       "mean                                   23.190525    1.658016e+06  \n",
       "std                                    21.564758    3.145187e+05  \n",
       "min                                     1.000039    5.518900e+04  \n",
       "25%                                     1.899502    1.530014e+06  \n",
       "50%                                    16.221721    1.679030e+06  \n",
       "75%                                    42.590233    1.816857e+06  \n",
       "max                                    74.411856    3.150313e+06  "
      ]
     },
     "execution_count": 133,
     "metadata": {},
     "output_type": "execute_result"
    }
   ],
   "source": [
    "data.describe()"
   ]
  },
  {
   "cell_type": "code",
   "execution_count": 134,
   "id": "01d03676",
   "metadata": {},
   "outputs": [
    {
     "data": {
      "text/html": [
       "<div>\n",
       "<style scoped>\n",
       "    .dataframe tbody tr th:only-of-type {\n",
       "        vertical-align: middle;\n",
       "    }\n",
       "\n",
       "    .dataframe tbody tr th {\n",
       "        vertical-align: top;\n",
       "    }\n",
       "\n",
       "    .dataframe thead th {\n",
       "        text-align: right;\n",
       "    }\n",
       "</style>\n",
       "<table border=\"1\" class=\"dataframe\">\n",
       "  <thead>\n",
       "    <tr style=\"text-align: right;\">\n",
       "      <th></th>\n",
       "      <th>STATE</th>\n",
       "      <th>CONSTITUENCY</th>\n",
       "      <th>NAME</th>\n",
       "      <th>WINNER</th>\n",
       "      <th>PARTY</th>\n",
       "      <th>SYMBOL</th>\n",
       "      <th>GENDER</th>\n",
       "      <th>CRIMINAL\\nCASES</th>\n",
       "      <th>AGE</th>\n",
       "      <th>CATEGORY</th>\n",
       "      <th>EDUCATION</th>\n",
       "      <th>ASSETS</th>\n",
       "      <th>LIABILITIES</th>\n",
       "      <th>GENERAL\\nVOTES</th>\n",
       "      <th>POSTAL\\nVOTES</th>\n",
       "      <th>TOTAL\\nVOTES</th>\n",
       "      <th>OVER TOTAL ELECTORS \\nIN CONSTITUENCY</th>\n",
       "      <th>OVER TOTAL VOTES POLLED \\nIN CONSTITUENCY</th>\n",
       "      <th>TOTAL ELECTORS</th>\n",
       "    </tr>\n",
       "  </thead>\n",
       "  <tbody>\n",
       "    <tr>\n",
       "      <th>2258</th>\n",
       "      <td>Maharashtra</td>\n",
       "      <td>YAVATMAL-WASHIM</td>\n",
       "      <td>Anil Jayram Rathod</td>\n",
       "      <td>0</td>\n",
       "      <td>IND</td>\n",
       "      <td>SHIP</td>\n",
       "      <td>MALE</td>\n",
       "      <td>0</td>\n",
       "      <td>43.0</td>\n",
       "      <td>GENERAL</td>\n",
       "      <td>Post Graduate</td>\n",
       "      <td>Rs 48,90,000\\n ~ 48 Lacs+</td>\n",
       "      <td>Rs 10,20,000\\n ~ 10 Lacs+</td>\n",
       "      <td>14661</td>\n",
       "      <td>25</td>\n",
       "      <td>14686</td>\n",
       "      <td>0.766419</td>\n",
       "      <td>1.250060</td>\n",
       "      <td>1916185</td>\n",
       "    </tr>\n",
       "    <tr>\n",
       "      <th>2259</th>\n",
       "      <td>Telangana</td>\n",
       "      <td>ZAHIRABAD</td>\n",
       "      <td>B.B.PATIL</td>\n",
       "      <td>1</td>\n",
       "      <td>TRS</td>\n",
       "      <td>Car</td>\n",
       "      <td>MALE</td>\n",
       "      <td>18</td>\n",
       "      <td>63.0</td>\n",
       "      <td>GENERAL</td>\n",
       "      <td>Graduate</td>\n",
       "      <td>Rs 1,28,78,51,556\\n ~ 128 Crore+</td>\n",
       "      <td>Rs 1,15,35,000\\n ~ 1 Crore+</td>\n",
       "      <td>434066</td>\n",
       "      <td>178</td>\n",
       "      <td>434244</td>\n",
       "      <td>28.975369</td>\n",
       "      <td>41.574183</td>\n",
       "      <td>1498666</td>\n",
       "    </tr>\n",
       "    <tr>\n",
       "      <th>2260</th>\n",
       "      <td>Telangana</td>\n",
       "      <td>ZAHIRABAD</td>\n",
       "      <td>MADAN MOHAN RAO</td>\n",
       "      <td>0</td>\n",
       "      <td>INC</td>\n",
       "      <td>Hand</td>\n",
       "      <td>MALE</td>\n",
       "      <td>0</td>\n",
       "      <td>49.0</td>\n",
       "      <td>GENERAL</td>\n",
       "      <td>Post Graduate</td>\n",
       "      <td>Rs 90,36,63,001\\n ~ 90 Crore+</td>\n",
       "      <td>Rs 0\\n ~</td>\n",
       "      <td>427900</td>\n",
       "      <td>115</td>\n",
       "      <td>428015</td>\n",
       "      <td>28.559732</td>\n",
       "      <td>40.977823</td>\n",
       "      <td>1498666</td>\n",
       "    </tr>\n",
       "    <tr>\n",
       "      <th>2261</th>\n",
       "      <td>Telangana</td>\n",
       "      <td>ZAHIRABAD</td>\n",
       "      <td>BANALA LAXMA REDDY</td>\n",
       "      <td>0</td>\n",
       "      <td>BJP</td>\n",
       "      <td>Lotus</td>\n",
       "      <td>MALE</td>\n",
       "      <td>3</td>\n",
       "      <td>47.0</td>\n",
       "      <td>GENERAL</td>\n",
       "      <td>12th Pass</td>\n",
       "      <td>Rs 5,85,77,327\\n ~ 5 Crore+</td>\n",
       "      <td>Rs 52,50,000\\n ~ 52 Lacs+</td>\n",
       "      <td>138731</td>\n",
       "      <td>216</td>\n",
       "      <td>138947</td>\n",
       "      <td>9.271379</td>\n",
       "      <td>13.302678</td>\n",
       "      <td>1498666</td>\n",
       "    </tr>\n",
       "    <tr>\n",
       "      <th>2262</th>\n",
       "      <td>Telangana</td>\n",
       "      <td>ZAHIRABAD</td>\n",
       "      <td>NOTA</td>\n",
       "      <td>0</td>\n",
       "      <td>NOTA</td>\n",
       "      <td>NaN</td>\n",
       "      <td>NaN</td>\n",
       "      <td>NaN</td>\n",
       "      <td>NaN</td>\n",
       "      <td>NaN</td>\n",
       "      <td>NaN</td>\n",
       "      <td>NaN</td>\n",
       "      <td>NaN</td>\n",
       "      <td>11138</td>\n",
       "      <td>2</td>\n",
       "      <td>11140</td>\n",
       "      <td>0.743328</td>\n",
       "      <td>1.066535</td>\n",
       "      <td>1498666</td>\n",
       "    </tr>\n",
       "  </tbody>\n",
       "</table>\n",
       "</div>"
      ],
      "text/plain": [
       "            STATE     CONSTITUENCY                NAME  WINNER PARTY SYMBOL  \\\n",
       "2258  Maharashtra  YAVATMAL-WASHIM  Anil Jayram Rathod       0   IND   SHIP   \n",
       "2259    Telangana        ZAHIRABAD           B.B.PATIL       1   TRS    Car   \n",
       "2260    Telangana        ZAHIRABAD     MADAN MOHAN RAO       0   INC   Hand   \n",
       "2261    Telangana        ZAHIRABAD  BANALA LAXMA REDDY       0   BJP  Lotus   \n",
       "2262    Telangana        ZAHIRABAD                NOTA       0  NOTA    NaN   \n",
       "\n",
       "     GENDER CRIMINAL\\nCASES   AGE CATEGORY      EDUCATION  \\\n",
       "2258   MALE               0  43.0  GENERAL  Post Graduate   \n",
       "2259   MALE              18  63.0  GENERAL       Graduate   \n",
       "2260   MALE               0  49.0  GENERAL  Post Graduate   \n",
       "2261   MALE               3  47.0  GENERAL      12th Pass   \n",
       "2262    NaN             NaN   NaN      NaN            NaN   \n",
       "\n",
       "                                ASSETS                  LIABILITIES  \\\n",
       "2258         Rs 48,90,000\\n ~ 48 Lacs+    Rs 10,20,000\\n ~ 10 Lacs+   \n",
       "2259  Rs 1,28,78,51,556\\n ~ 128 Crore+  Rs 1,15,35,000\\n ~ 1 Crore+   \n",
       "2260     Rs 90,36,63,001\\n ~ 90 Crore+                     Rs 0\\n ~   \n",
       "2261       Rs 5,85,77,327\\n ~ 5 Crore+    Rs 52,50,000\\n ~ 52 Lacs+   \n",
       "2262                               NaN                          NaN   \n",
       "\n",
       "      GENERAL\\nVOTES  POSTAL\\nVOTES  TOTAL\\nVOTES  \\\n",
       "2258           14661             25         14686   \n",
       "2259          434066            178        434244   \n",
       "2260          427900            115        428015   \n",
       "2261          138731            216        138947   \n",
       "2262           11138              2         11140   \n",
       "\n",
       "      OVER TOTAL ELECTORS \\nIN CONSTITUENCY  \\\n",
       "2258                               0.766419   \n",
       "2259                              28.975369   \n",
       "2260                              28.559732   \n",
       "2261                               9.271379   \n",
       "2262                               0.743328   \n",
       "\n",
       "      OVER TOTAL VOTES POLLED \\nIN CONSTITUENCY  TOTAL ELECTORS  \n",
       "2258                                   1.250060         1916185  \n",
       "2259                                  41.574183         1498666  \n",
       "2260                                  40.977823         1498666  \n",
       "2261                                  13.302678         1498666  \n",
       "2262                                   1.066535         1498666  "
      ]
     },
     "execution_count": 134,
     "metadata": {},
     "output_type": "execute_result"
    }
   ],
   "source": [
    "data.tail(5)"
   ]
  },
  {
   "cell_type": "markdown",
   "id": "917cde13",
   "metadata": {},
   "source": [
    "# 2. Data Preprocessing"
   ]
  },
  {
   "cell_type": "markdown",
   "id": "f30f82b3",
   "metadata": {},
   "source": [
    "# 2.4 Feature Reduction and Processing"
   ]
  },
  {
   "cell_type": "code",
   "execution_count": 135,
   "id": "ae9802f8",
   "metadata": {},
   "outputs": [],
   "source": [
    "data.drop(['STATE', 'CONSTITUENCY', 'NAME', 'SYMBOL',\n",
    "        'GENERAL\\nVOTES', 'POSTAL\\nVOTES','TOTAL\\nVOTES', \n",
    "       'OVER TOTAL ELECTORS \\nIN CONSTITUENCY',\n",
    "       'OVER TOTAL VOTES POLLED \\nIN CONSTITUENCY'],axis=1,inplace = True)"
   ]
  },
  {
   "cell_type": "code",
   "execution_count": 136,
   "id": "b865bf43",
   "metadata": {},
   "outputs": [
    {
     "data": {
      "text/plain": [
       "Index(['WINNER', 'PARTY', 'GENDER', 'CRIMINAL\\nCASES', 'AGE', 'CATEGORY',\n",
       "       'EDUCATION', 'ASSETS', 'LIABILITIES', 'TOTAL ELECTORS'],\n",
       "      dtype='object')"
      ]
     },
     "execution_count": 136,
     "metadata": {},
     "output_type": "execute_result"
    }
   ],
   "source": [
    "data.columns"
   ]
  },
  {
   "cell_type": "code",
   "execution_count": 137,
   "id": "129371bb",
   "metadata": {},
   "outputs": [],
   "source": [
    "#cleaning data for liability coloumn\n",
    "data['LIABILITIES'].replace(['Not Available','Nil','NIL',np.nan,'~','Telangana'],'0',inplace=True)\n",
    "a=data['LIABILITIES'].apply(lambda x:x.split()[1] if len(x.split())>1 else x.split()[0])\n",
    "b = a.apply(lambda x:x.split(','))\n",
    "c = b.apply(lambda x:''.join(x))\n",
    "data['LIABILITIES']=c\n",
    "data['LIABILITIES'] = Elec_df['LIABILITIES'].astype(int)"
   ]
  },
  {
   "cell_type": "code",
   "execution_count": 138,
   "id": "e4fed280",
   "metadata": {},
   "outputs": [
    {
     "data": {
      "text/plain": [
       "WINNER               int64\n",
       "PARTY               object\n",
       "GENDER              object\n",
       "CRIMINAL\\nCASES     object\n",
       "AGE                float64\n",
       "CATEGORY            object\n",
       "EDUCATION           object\n",
       "ASSETS              object\n",
       "LIABILITIES        float64\n",
       "TOTAL ELECTORS       int64\n",
       "dtype: object"
      ]
     },
     "execution_count": 138,
     "metadata": {},
     "output_type": "execute_result"
    }
   ],
   "source": [
    "data.dtypes"
   ]
  },
  {
   "cell_type": "code",
   "execution_count": 139,
   "id": "beac6d81",
   "metadata": {},
   "outputs": [],
   "source": [
    "#renaming columns\n",
    "data.columns = ['WINNER', 'PARTY', 'GENDER', 'CRIMINAL_CASES', 'AGE', 'CATEGORY',\n",
    "       'EDUCATION', 'ASSETS', 'LIABILITIES', 'TOTAL_ELECTORS']"
   ]
  },
  {
   "cell_type": "code",
   "execution_count": 140,
   "id": "9b6c1793",
   "metadata": {},
   "outputs": [
    {
     "data": {
      "text/html": [
       "<div>\n",
       "<style scoped>\n",
       "    .dataframe tbody tr th:only-of-type {\n",
       "        vertical-align: middle;\n",
       "    }\n",
       "\n",
       "    .dataframe tbody tr th {\n",
       "        vertical-align: top;\n",
       "    }\n",
       "\n",
       "    .dataframe thead th {\n",
       "        text-align: right;\n",
       "    }\n",
       "</style>\n",
       "<table border=\"1\" class=\"dataframe\">\n",
       "  <thead>\n",
       "    <tr style=\"text-align: right;\">\n",
       "      <th></th>\n",
       "      <th>WINNER</th>\n",
       "      <th>PARTY</th>\n",
       "      <th>GENDER</th>\n",
       "      <th>CRIMINAL_CASES</th>\n",
       "      <th>AGE</th>\n",
       "      <th>CATEGORY</th>\n",
       "      <th>EDUCATION</th>\n",
       "      <th>ASSETS</th>\n",
       "      <th>LIABILITIES</th>\n",
       "      <th>TOTAL_ELECTORS</th>\n",
       "    </tr>\n",
       "  </thead>\n",
       "  <tbody>\n",
       "    <tr>\n",
       "      <th>0</th>\n",
       "      <td>1</td>\n",
       "      <td>BJP</td>\n",
       "      <td>MALE</td>\n",
       "      <td>52</td>\n",
       "      <td>52.0</td>\n",
       "      <td>ST</td>\n",
       "      <td>12th Pass</td>\n",
       "      <td>Rs 30,99,414\\n ~ 30 Lacs+</td>\n",
       "      <td>231450.0</td>\n",
       "      <td>1489790</td>\n",
       "    </tr>\n",
       "    <tr>\n",
       "      <th>1</th>\n",
       "      <td>0</td>\n",
       "      <td>TRS</td>\n",
       "      <td>MALE</td>\n",
       "      <td>0</td>\n",
       "      <td>54.0</td>\n",
       "      <td>ST</td>\n",
       "      <td>Post Graduate</td>\n",
       "      <td>Rs 1,84,77,888\\n ~ 1 Crore+</td>\n",
       "      <td>847000.0</td>\n",
       "      <td>1489790</td>\n",
       "    </tr>\n",
       "    <tr>\n",
       "      <th>2</th>\n",
       "      <td>0</td>\n",
       "      <td>INC</td>\n",
       "      <td>MALE</td>\n",
       "      <td>3</td>\n",
       "      <td>52.0</td>\n",
       "      <td>ST</td>\n",
       "      <td>12th Pass</td>\n",
       "      <td>Rs 3,64,91,000\\n ~ 3 Crore+</td>\n",
       "      <td>NaN</td>\n",
       "      <td>1489790</td>\n",
       "    </tr>\n",
       "    <tr>\n",
       "      <th>3</th>\n",
       "      <td>0</td>\n",
       "      <td>NOTA</td>\n",
       "      <td>NaN</td>\n",
       "      <td>NaN</td>\n",
       "      <td>NaN</td>\n",
       "      <td>NaN</td>\n",
       "      <td>NaN</td>\n",
       "      <td>NaN</td>\n",
       "      <td>NaN</td>\n",
       "      <td>1489790</td>\n",
       "    </tr>\n",
       "    <tr>\n",
       "      <th>4</th>\n",
       "      <td>1</td>\n",
       "      <td>BJP</td>\n",
       "      <td>MALE</td>\n",
       "      <td>5</td>\n",
       "      <td>58.0</td>\n",
       "      <td>SC</td>\n",
       "      <td>Doctorate</td>\n",
       "      <td>Rs 7,42,74,036\\n ~ 7 Crore+</td>\n",
       "      <td>8606522.0</td>\n",
       "      <td>1937690</td>\n",
       "    </tr>\n",
       "  </tbody>\n",
       "</table>\n",
       "</div>"
      ],
      "text/plain": [
       "   WINNER PARTY GENDER CRIMINAL_CASES   AGE CATEGORY      EDUCATION  \\\n",
       "0       1   BJP   MALE             52  52.0       ST      12th Pass   \n",
       "1       0   TRS   MALE              0  54.0       ST  Post Graduate   \n",
       "2       0   INC   MALE              3  52.0       ST      12th Pass   \n",
       "3       0  NOTA    NaN            NaN   NaN      NaN            NaN   \n",
       "4       1   BJP   MALE              5  58.0       SC      Doctorate   \n",
       "\n",
       "                        ASSETS  LIABILITIES  TOTAL_ELECTORS  \n",
       "0    Rs 30,99,414\\n ~ 30 Lacs+     231450.0         1489790  \n",
       "1  Rs 1,84,77,888\\n ~ 1 Crore+     847000.0         1489790  \n",
       "2  Rs 3,64,91,000\\n ~ 3 Crore+          NaN         1489790  \n",
       "3                          NaN          NaN         1489790  \n",
       "4  Rs 7,42,74,036\\n ~ 7 Crore+    8606522.0         1937690  "
      ]
     },
     "execution_count": 140,
     "metadata": {},
     "output_type": "execute_result"
    }
   ],
   "source": [
    "data.head()"
   ]
  },
  {
   "cell_type": "markdown",
   "id": "0434d7ad",
   "metadata": {},
   "source": [
    "# 2.1) Missing value Handling"
   ]
  },
  {
   "cell_type": "code",
   "execution_count": 141,
   "id": "abd61274",
   "metadata": {},
   "outputs": [
    {
     "data": {
      "image/png": "[encoded data removed]",
      "text/plain": [
       "<Figure size 720x432 with 1 Axes>"
      ]
     },
     "metadata": {},
     "output_type": "display_data"
    }
   ],
   "source": [
    "#visulaizing missing value columns\n",
    "plt.figure(figsize=(10,6))\n",
    "sns.heatmap(data.isnull(),yticklabels=False , cbar =False ,cmap ='summer')\n",
    "plt.show()"
   ]
  },
  {
   "cell_type": "code",
   "execution_count": 142,
   "id": "dd10e33e",
   "metadata": {
    "scrolled": true
   },
   "outputs": [
    {
     "data": {
      "text/plain": [
       "WINNER              0\n",
       "PARTY               0\n",
       "GENDER            245\n",
       "CRIMINAL_CASES    245\n",
       "AGE               245\n",
       "CATEGORY          245\n",
       "EDUCATION         245\n",
       "ASSETS            245\n",
       "LIABILITIES       556\n",
       "TOTAL_ELECTORS      0\n",
       "dtype: int64"
      ]
     },
     "execution_count": 142,
     "metadata": {},
     "output_type": "execute_result"
    }
   ],
   "source": [
    "#checking null values for each feature\n",
    "data.isna().sum()"
   ]
  },
  {
   "cell_type": "markdown",
   "id": "264d47df",
   "metadata": {},
   "source": [
    "here is a strong chance that some rows have missing data in many features\n",
    "\n",
    "even if we fill numerical values for criminal case, we cann't predict gender\n",
    "\n",
    "so 245 rows are dropping"
   ]
  },
  {
   "cell_type": "code",
   "execution_count": 143,
   "id": "09716091",
   "metadata": {},
   "outputs": [
    {
     "data": {
      "text/plain": [
       "Index(['WINNER', 'PARTY', 'GENDER', 'CRIMINAL_CASES', 'AGE', 'CATEGORY',\n",
       "       'EDUCATION', 'ASSETS', 'LIABILITIES', 'TOTAL_ELECTORS'],\n",
       "      dtype='object')"
      ]
     },
     "execution_count": 143,
     "metadata": {},
     "output_type": "execute_result"
    }
   ],
   "source": [
    "data.columns"
   ]
  },
  {
   "cell_type": "code",
   "execution_count": 144,
   "id": "d5b92181",
   "metadata": {
    "scrolled": true
   },
   "outputs": [
    {
     "data": {
      "text/plain": [
       "WINNER            0\n",
       "PARTY             0\n",
       "GENDER            0\n",
       "CRIMINAL_CASES    0\n",
       "AGE               0\n",
       "CATEGORY          0\n",
       "EDUCATION         0\n",
       "ASSETS            0\n",
       "LIABILITIES       0\n",
       "TOTAL_ELECTORS    0\n",
       "dtype: int64"
      ]
     },
     "execution_count": 144,
     "metadata": {},
     "output_type": "execute_result"
    }
   ],
   "source": [
    "#dropping null values\n",
    "data.dropna(inplace=True)\n",
    "data.isnull().sum()"
   ]
  },
  {
   "cell_type": "markdown",
   "id": "1bac7ca6",
   "metadata": {},
   "source": [
    "now data is okay"
   ]
  },
  {
   "cell_type": "code",
   "execution_count": 145,
   "id": "6820e497",
   "metadata": {
    "scrolled": false
   },
   "outputs": [
    {
     "name": "stdout",
     "output_type": "stream",
     "text": [
      "<class 'pandas.core.frame.DataFrame'>\n",
      "Int64Index: 1707 entries, 0 to 2261\n",
      "Data columns (total 10 columns):\n",
      " #   Column          Non-Null Count  Dtype  \n",
      "---  ------          --------------  -----  \n",
      " 0   WINNER          1707 non-null   int64  \n",
      " 1   PARTY           1707 non-null   object \n",
      " 2   GENDER          1707 non-null   object \n",
      " 3   CRIMINAL_CASES  1707 non-null   object \n",
      " 4   AGE             1707 non-null   float64\n",
      " 5   CATEGORY        1707 non-null   object \n",
      " 6   EDUCATION       1707 non-null   object \n",
      " 7   ASSETS          1707 non-null   object \n",
      " 8   LIABILITIES     1707 non-null   float64\n",
      " 9   TOTAL_ELECTORS  1707 non-null   int64  \n",
      "dtypes: float64(2), int64(2), object(6)\n",
      "memory usage: 146.7+ KB\n"
     ]
    }
   ],
   "source": [
    "data.info()"
   ]
  },
  {
   "cell_type": "code",
   "execution_count": 146,
   "id": "b3d58397",
   "metadata": {},
   "outputs": [],
   "source": [
    "#criminal case feature has not available value\n",
    "data['CRIMINAL_CASES']=data['CRIMINAL_CASES'].apply(lambda x:0 if x=='Not Available' else x)"
   ]
  },
  {
   "cell_type": "markdown",
   "id": "0e0d50f4",
   "metadata": {},
   "source": [
    "# 2.2 Outliers detection"
   ]
  },
  {
   "cell_type": "code",
   "execution_count": 147,
   "id": "82c52344",
   "metadata": {
    "scrolled": true
   },
   "outputs": [
    {
     "data": {
      "image/png": "[encoded data removed]",
      "text/plain": [
       "<Figure size 432x288 with 1 Axes>"
      ]
     },
     "metadata": {},
     "output_type": "display_data"
    }
   ],
   "source": [
    "# for finding outliers we can use boxplot\n",
    "# boxplot before removing the outliers\n",
    "plt.boxplot(data[\"AGE\"])\n",
    "plt.show()\n"
   ]
  },
  {
   "cell_type": "markdown",
   "id": "a43c4df2",
   "metadata": {},
   "source": [
    "no outliers"
   ]
  },
  {
   "cell_type": "code",
   "execution_count": 148,
   "id": "e314128a-143c-4443-8d03-977d143147d3",
   "metadata": {},
   "outputs": [
    {
     "data": {
      "text/plain": [
       "Text(0.5, 1.0, 'Boxplot for LIABILITIES')"
      ]
     },
     "execution_count": 148,
     "metadata": {},
     "output_type": "execute_result"
    },
    {
     "data": {
      "image/png": "[encoded data removed]",
      "text/plain": [
       "<Figure size 432x288 with 1 Axes>"
      ]
     },
     "metadata": {},
     "output_type": "display_data"
    }
   ],
   "source": [
    "plt.boxplot(data['LIABILITIES'])\n",
    "plt.title('Boxplot for LIABILITIES')"
   ]
  },
  {
   "cell_type": "markdown",
   "id": "bbac8a2c",
   "metadata": {},
   "source": [
    "outliers present"
   ]
  },
  {
   "cell_type": "code",
   "execution_count": 149,
   "id": "9b4a1df7",
   "metadata": {},
   "outputs": [],
   "source": [
    "Q1 = np.percentile(Elec_df['LIABILITIES'],25,interpolation = 'midpoint' )\n",
    "Q2 = np.percentile(Elec_df['LIABILITIES'],50,interpolation = 'midpoint' )\n",
    "Q3 = np.percentile(Elec_df['LIABILITIES'],75,interpolation = 'midpoint' )"
   ]
  },
  {
   "cell_type": "code",
   "execution_count": 150,
   "id": "208e466a",
   "metadata": {},
   "outputs": [
    {
     "name": "stdout",
     "output_type": "stream",
     "text": [
      "0.0\n",
      "416612.0\n",
      "2500000.0\n"
     ]
    }
   ],
   "source": [
    "print(Q1)\n",
    "print(Q2)\n",
    "print(Q3)"
   ]
  },
  {
   "cell_type": "code",
   "execution_count": 152,
   "id": "2ce9e714",
   "metadata": {},
   "outputs": [
    {
     "data": {
      "text/plain": [
       "416612.0"
      ]
     },
     "execution_count": 152,
     "metadata": {},
     "output_type": "execute_result"
    }
   ],
   "source": [
    "data['LIABILITIES'].median()"
   ]
  },
  {
   "cell_type": "code",
   "execution_count": 153,
   "id": "a0a65b31",
   "metadata": {},
   "outputs": [
    {
     "name": "stdout",
     "output_type": "stream",
     "text": [
      "-3750000.0\n",
      "6250000.0\n"
     ]
    }
   ],
   "source": [
    "IQR = Q3-Q1\n",
    "low_lim = Q1-1.5*IQR\n",
    "Up_lim = Q3+1.5*IQR\n",
    "print(low_lim)\n",
    "print(Up_lim)"
   ]
  },
  {
   "cell_type": "code",
   "execution_count": null,
   "id": "fc72e7dc",
   "metadata": {},
   "outputs": [],
   "source": [
    " # remove values below  above \n",
    " \n",
    " # create a loop to remove"
   ]
  },
  {
   "cell_type": "code",
   "execution_count": 154,
   "id": "e0c9526d",
   "metadata": {},
   "outputs": [],
   "source": [
    "outlier = []\n",
    "for x in data['LIABILITIES']:\n",
    "    if((x>Up_lim) or (x<low_lim)):\n",
    "        outlier.append(x)"
   ]
  },
  {
   "cell_type": "code",
   "execution_count": 47,
   "id": "88038010",
   "metadata": {},
   "outputs": [
    {
     "data": {
      "text/plain": [
       "[15300000,\n",
       " 22251891,\n",
       " 32549132,\n",
       " 18943977,\n",
       " 306012685,\n",
       " 28095176,\n",
       " 24739098,\n",
       " 70576979,\n",
       " 79139288,\n",
       " 57940950,\n",
       " 19579691,\n",
       " 205591400,\n",
       " 110928567,\n",
       " 23667368,\n",
       " 84550726,\n",
       " 80450870,\n",
       " 166365972,\n",
       " 33409505,\n",
       " 20565404,\n",
       " 204955775,\n",
       " 17925000,\n",
       " 27622685,\n",
       " 31390310,\n",
       " 198464347,\n",
       " 26510293,\n",
       " 26784734,\n",
       " 29242618,\n",
       " 63341667,\n",
       " 1079582000,\n",
       " 312521957,\n",
       " 45079101,\n",
       " 38320377,\n",
       " 104302653,\n",
       " 15596951,\n",
       " 519320305,\n",
       " 34400000,\n",
       " 46548771,\n",
       " 15925213,\n",
       " 16881608,\n",
       " 954852600,\n",
       " 198479638,\n",
       " 225214094,\n",
       " 22231164,\n",
       " 21696413,\n",
       " 54880849,\n",
       " 19861338,\n",
       " 28346352,\n",
       " 24650224,\n",
       " 151084000,\n",
       " 45967727,\n",
       " 24069129,\n",
       " 42963534,\n",
       " 49080220,\n",
       " 1016148176,\n",
       " 18604443,\n",
       " 21940000,\n",
       " 24777000,\n",
       " 22752880,\n",
       " 58992436,\n",
       " 258028373,\n",
       " 258386550,\n",
       " 18087123,\n",
       " 197007553,\n",
       " 358127700,\n",
       " 66870634,\n",
       " 104316683,\n",
       " 195595693,\n",
       " 21635686,\n",
       " 464721999,\n",
       " 23686000,\n",
       " 115756111,\n",
       " 102828604,\n",
       " 37268162,\n",
       " 215617501,\n",
       " 43113473,\n",
       " 27428941,\n",
       " 72681681,\n",
       " 51736254,\n",
       " 176677024,\n",
       " 585784500,\n",
       " 31474526,\n",
       " 25302234,\n",
       " 19391778,\n",
       " 24438446,\n",
       " 342035860,\n",
       " 33560974,\n",
       " 33303902,\n",
       " 29371716,\n",
       " 100220000,\n",
       " 53156203,\n",
       " 105593242,\n",
       " 174106490,\n",
       " 21054000,\n",
       " 67794880,\n",
       " 50358593,\n",
       " 954852600,\n",
       " 15682840,\n",
       " 19223728,\n",
       " 34034178,\n",
       " 17591733,\n",
       " 43863749,\n",
       " 35329571,\n",
       " 17300000,\n",
       " 23201603,\n",
       " 50520999,\n",
       " 17711043,\n",
       " 55970713,\n",
       " 203452417,\n",
       " 534644785,\n",
       " 31500000,\n",
       " 84082104,\n",
       " 64526891,\n",
       " 35502582,\n",
       " 22026230,\n",
       " 15460966,\n",
       " 278877123,\n",
       " 37253210,\n",
       " 28860107,\n",
       " 41599959,\n",
       " 165566495,\n",
       " 193271437,\n",
       " 21867709,\n",
       " 106820000,\n",
       " 27225637,\n",
       " 68331773,\n",
       " 17978516,\n",
       " 63299925,\n",
       " 120500000,\n",
       " 51105911,\n",
       " 24358926,\n",
       " 22000000,\n",
       " 15678811,\n",
       " 60936530,\n",
       " 350040219,\n",
       " 98632194,\n",
       " 43838249,\n",
       " 30421037,\n",
       " 85824156,\n",
       " 16777175,\n",
       " 58573744,\n",
       " 22833319,\n",
       " 61524736,\n",
       " 34416887,\n",
       " 18310000,\n",
       " 81131909,\n",
       " 175246855,\n",
       " 28993930,\n",
       " 1547511439,\n",
       " 31052190,\n",
       " 22121569,\n",
       " 83215997,\n",
       " 20730086,\n",
       " 20623099,\n",
       " 22510000,\n",
       " 16547563,\n",
       " 80721594,\n",
       " 116191184,\n",
       " 196853975,\n",
       " 25512343,\n",
       " 27106434,\n",
       " 19865690,\n",
       " 143795090,\n",
       " 135455000,\n",
       " 187853701,\n",
       " 22475333,\n",
       " 38412374,\n",
       " 66817959,\n",
       " 62070621,\n",
       " 62328052,\n",
       " 100250602,\n",
       " 19268169,\n",
       " 284863762,\n",
       " 746310844,\n",
       " 16809408,\n",
       " 37600000,\n",
       " 896315287,\n",
       " 112417440,\n",
       " 112981121,\n",
       " 17695194,\n",
       " 33600000,\n",
       " 22404267,\n",
       " 51670191,\n",
       " 96220673,\n",
       " 22055657,\n",
       " 27807304,\n",
       " 91408506,\n",
       " 40743724,\n",
       " 16286033,\n",
       " 353629176,\n",
       " 131288062,\n",
       " 93613295,\n",
       " 268266203,\n",
       " 38100000,\n",
       " 21136135,\n",
       " 36057947,\n",
       " 49681435,\n",
       " 25590000,\n",
       " 237660077,\n",
       " 214610632,\n",
       " 15714320,\n",
       " 18600000,\n",
       " 18800000,\n",
       " 97090675,\n",
       " 40729055,\n",
       " 35352263,\n",
       " 208178829,\n",
       " 21781741,\n",
       " 18642484,\n",
       " 137800000,\n",
       " 48525290,\n",
       " 15291251,\n",
       " 177035582,\n",
       " 68693655,\n",
       " 22561506,\n",
       " 1014467354,\n",
       " 21678798,\n",
       " 41083126,\n",
       " 130481204,\n",
       " 46737153,\n",
       " 56846658,\n",
       " 152281255,\n",
       " 680973688,\n",
       " 337580746,\n",
       " 90723181,\n",
       " 40746162,\n",
       " 47897494,\n",
       " 91302133,\n",
       " 129414369,\n",
       " 101327317,\n",
       " 21839605,\n",
       " 30223375,\n",
       " 49047253,\n",
       " 67370030,\n",
       " 24507384,\n",
       " 42453369,\n",
       " 17876777,\n",
       " 284863762,\n",
       " 65935070,\n",
       " 29580175,\n",
       " 19100000,\n",
       " 28952800,\n",
       " 68668270,\n",
       " 217944697,\n",
       " 46218245,\n",
       " 28820830,\n",
       " 35212523,\n",
       " 21932742,\n",
       " 715792024,\n",
       " 21341268,\n",
       " 17814757,\n",
       " 324874000,\n",
       " 461954372,\n",
       " 205473477,\n",
       " 593275186,\n",
       " 16566856,\n",
       " 82106333,\n",
       " 17588570,\n",
       " 18611248,\n",
       " 47008615,\n",
       " 80459602,\n",
       " 16204374,\n",
       " 76363728,\n",
       " 16820672,\n",
       " 16778090,\n",
       " 21846800,\n",
       " 23345328,\n",
       " 103062594,\n",
       " 100605212,\n",
       " 51954358,\n",
       " 18844623,\n",
       " 68489543,\n",
       " 170909000,\n",
       " 49898166,\n",
       " 19405127,\n",
       " 174081116,\n",
       " 113658582,\n",
       " 31967000,\n",
       " 25848939,\n",
       " 62371547,\n",
       " 65575554,\n",
       " 50294342,\n",
       " 17695194,\n",
       " 1350000000,\n",
       " 16220826,\n",
       " 54080733,\n",
       " 52183748,\n",
       " 30542133,\n",
       " 363510252,\n",
       " 32734079,\n",
       " 19290928,\n",
       " 91182000,\n",
       " 46149049,\n",
       " 28531015,\n",
       " 41924988,\n",
       " 15537415,\n",
       " 32243604,\n",
       " 172296311,\n",
       " 113844867,\n",
       " 15602872,\n",
       " 49936840,\n",
       " 21813972,\n",
       " 96675048,\n",
       " 41016655,\n",
       " 23800806,\n",
       " 112089220,\n",
       " 512332955,\n",
       " 209577562,\n",
       " 160030959,\n",
       " 34949036,\n",
       " 40097329,\n",
       " 65847040]"
      ]
     },
     "execution_count": 47,
     "metadata": {},
     "output_type": "execute_result"
    }
   ],
   "source": [
    "outlier"
   ]
  },
  {
   "cell_type": "code",
   "execution_count": null,
   "id": "e98585f4",
   "metadata": {},
   "outputs": [],
   "source": [
    "# find index of these outliers\n",
    "# locate those in index columns"
   ]
  },
  {
   "cell_type": "code",
   "execution_count": 155,
   "id": "c0541f15",
   "metadata": {},
   "outputs": [
    {
     "data": {
      "text/plain": [
       "Int64Index([   4,   10,   16,   21,   22,   23,   64,   66,   68,   73,\n",
       "            ...\n",
       "            2137, 2182, 2212, 2222, 2227, 2232, 2243, 2247, 2253, 2259],\n",
       "           dtype='int64', length=187)"
      ]
     },
     "execution_count": 155,
     "metadata": {},
     "output_type": "execute_result"
    }
   ],
   "source": [
    "ind1 = data['LIABILITIES']>Up_lim\n",
    "data.loc[ind1].index"
   ]
  },
  {
   "cell_type": "code",
   "execution_count": 156,
   "id": "9e9054d0",
   "metadata": {},
   "outputs": [],
   "source": [
    "# drop it\n",
    "data.drop(Elec_df.loc[ind1].index, inplace=True)"
   ]
  },
  {
   "cell_type": "code",
   "execution_count": 157,
   "id": "85918662",
   "metadata": {},
   "outputs": [
    {
     "data": {
      "text/plain": [
       "Text(0.5, 1.0, 'Boxplot for LIABILITIES')"
      ]
     },
     "execution_count": 157,
     "metadata": {},
     "output_type": "execute_result"
    },
    {
     "data": {
      "image/png": "[encoded data removed]",
      "text/plain": [
       "<Figure size 432x288 with 1 Axes>"
      ]
     },
     "metadata": {},
     "output_type": "display_data"
    }
   ],
   "source": [
    "plt.boxplot(data['LIABILITIES'])\n",
    "plt.title('Boxplot for LIABILITIES')"
   ]
  },
  {
   "cell_type": "markdown",
   "id": "fc9de311",
   "metadata": {},
   "source": [
    "Reduced the outliers"
   ]
  },
  {
   "cell_type": "code",
   "execution_count": 158,
   "id": "9876dda5",
   "metadata": {},
   "outputs": [
    {
     "data": {
      "text/plain": [
       "(1520, 10)"
      ]
     },
     "execution_count": 158,
     "metadata": {},
     "output_type": "execute_result"
    }
   ],
   "source": [
    "data.shape"
   ]
  },
  {
   "cell_type": "code",
   "execution_count": 159,
   "id": "a96351e4",
   "metadata": {},
   "outputs": [
    {
     "data": {
      "text/plain": [
       "Index(['WINNER', 'PARTY', 'GENDER', 'CRIMINAL_CASES', 'AGE', 'CATEGORY',\n",
       "       'EDUCATION', 'ASSETS', 'LIABILITIES', 'TOTAL_ELECTORS'],\n",
       "      dtype='object')"
      ]
     },
     "execution_count": 159,
     "metadata": {},
     "output_type": "execute_result"
    }
   ],
   "source": [
    "data.columns"
   ]
  },
  {
   "cell_type": "markdown",
   "id": "41dcaa5c",
   "metadata": {},
   "source": [
    "# Managing Catagorical Values"
   ]
  },
  {
   "cell_type": "code",
   "execution_count": 160,
   "id": "7f8ca643",
   "metadata": {},
   "outputs": [
    {
     "data": {
      "text/html": [
       "<div>\n",
       "<style scoped>\n",
       "    .dataframe tbody tr th:only-of-type {\n",
       "        vertical-align: middle;\n",
       "    }\n",
       "\n",
       "    .dataframe tbody tr th {\n",
       "        vertical-align: top;\n",
       "    }\n",
       "\n",
       "    .dataframe thead th {\n",
       "        text-align: right;\n",
       "    }\n",
       "</style>\n",
       "<table border=\"1\" class=\"dataframe\">\n",
       "  <thead>\n",
       "    <tr style=\"text-align: right;\">\n",
       "      <th></th>\n",
       "      <th>PARTY</th>\n",
       "      <th>GENDER</th>\n",
       "      <th>CATEGORY</th>\n",
       "      <th>EDUCATION</th>\n",
       "    </tr>\n",
       "  </thead>\n",
       "  <tbody>\n",
       "    <tr>\n",
       "      <th>0</th>\n",
       "      <td>BJP</td>\n",
       "      <td>MALE</td>\n",
       "      <td>ST</td>\n",
       "      <td>12th Pass</td>\n",
       "    </tr>\n",
       "    <tr>\n",
       "      <th>1</th>\n",
       "      <td>TRS</td>\n",
       "      <td>MALE</td>\n",
       "      <td>ST</td>\n",
       "      <td>Post Graduate</td>\n",
       "    </tr>\n",
       "    <tr>\n",
       "      <th>6</th>\n",
       "      <td>INC</td>\n",
       "      <td>FEMALE</td>\n",
       "      <td>SC</td>\n",
       "      <td>Post Graduate</td>\n",
       "    </tr>\n",
       "    <tr>\n",
       "      <th>7</th>\n",
       "      <td>BJP</td>\n",
       "      <td>MALE</td>\n",
       "      <td>GENERAL</td>\n",
       "      <td>Doctorate</td>\n",
       "    </tr>\n",
       "    <tr>\n",
       "      <th>9</th>\n",
       "      <td>VBA</td>\n",
       "      <td>MALE</td>\n",
       "      <td>GENERAL</td>\n",
       "      <td>Graduate</td>\n",
       "    </tr>\n",
       "  </tbody>\n",
       "</table>\n",
       "</div>"
      ],
      "text/plain": [
       "  PARTY  GENDER CATEGORY      EDUCATION\n",
       "0   BJP    MALE       ST      12th Pass\n",
       "1   TRS    MALE       ST  Post Graduate\n",
       "6   INC  FEMALE       SC  Post Graduate\n",
       "7   BJP    MALE  GENERAL      Doctorate\n",
       "9   VBA    MALE  GENERAL       Graduate"
      ]
     },
     "execution_count": 160,
     "metadata": {},
     "output_type": "execute_result"
    }
   ],
   "source": [
    "data[['PARTY','GENDER','CATEGORY','EDUCATION']].head()"
   ]
  },
  {
   "cell_type": "markdown",
   "id": "3ae74799",
   "metadata": {},
   "source": [
    "# 2.6 Feature Engineering"
   ]
  },
  {
   "cell_type": "markdown",
   "id": "d5e2f2d4",
   "metadata": {},
   "source": [
    "Checking Feature party"
   ]
  },
  {
   "cell_type": "code",
   "execution_count": 162,
   "id": "f121e3d5",
   "metadata": {},
   "outputs": [
    {
     "data": {
      "text/plain": [
       "BJP       295\n",
       "INC       284\n",
       "IND       176\n",
       "BSP       135\n",
       "CPI(M)     96\n",
       "         ... \n",
       "MADP        1\n",
       "ravp        1\n",
       "SKM         1\n",
       "AHNP        1\n",
       "PHJSP       1\n",
       "Name: PARTY, Length: 126, dtype: int64"
      ]
     },
     "execution_count": 162,
     "metadata": {},
     "output_type": "execute_result"
    }
   ],
   "source": [
    "data['PARTY'].value_counts()"
   ]
  },
  {
   "cell_type": "markdown",
   "id": "33696c75",
   "metadata": {},
   "source": [
    "132 parties, lets reduce this no."
   ]
  },
  {
   "cell_type": "code",
   "execution_count": 163,
   "id": "2c79b129",
   "metadata": {},
   "outputs": [
    {
     "data": {
      "text/plain": [
       "BJP       295\n",
       "INC       284\n",
       "Others    236\n",
       "IND       176\n",
       "BSP       135\n",
       "CPI(M)     96\n",
       "AITC       42\n",
       "VBA        41\n",
       "NTK        34\n",
       "SP         31\n",
       "MNM        29\n",
       "AAP        23\n",
       "RJD        17\n",
       "BJD        17\n",
       "JD(U)      16\n",
       "JnP        13\n",
       "SHS        12\n",
       "DMK        12\n",
       "TDP        11\n",
       "Name: PARTY, dtype: int64"
      ]
     },
     "execution_count": 163,
     "metadata": {},
     "output_type": "execute_result"
    }
   ],
   "source": [
    "data['PARTY']=data['PARTY'].apply(lambda x:x if data['PARTY'].value_counts().loc[x]>10 else 'Others')\n",
    "data['PARTY'].value_counts()"
   ]
  },
  {
   "cell_type": "markdown",
   "id": "c2c3682a",
   "metadata": {},
   "source": [
    "Now Education Feature"
   ]
  },
  {
   "cell_type": "code",
   "execution_count": 164,
   "id": "eaae0f77",
   "metadata": {},
   "outputs": [
    {
     "data": {
      "text/plain": [
       "Post Graduate            373\n",
       "Graduate                 324\n",
       "Graduate Professional    245\n",
       "12th Pass                192\n",
       "10th Pass                149\n",
       "8th Pass                  67\n",
       "Doctorate                 60\n",
       "Others                    33\n",
       "5th Pass                  25\n",
       "Literate                  25\n",
       "Not Available             22\n",
       "Illiterate                 4\n",
       "Post Graduate\\n            1\n",
       "Name: EDUCATION, dtype: int64"
      ]
     },
     "execution_count": 164,
     "metadata": {},
     "output_type": "execute_result"
    }
   ],
   "source": [
    "data['EDUCATION'].value_counts()"
   ]
  },
  {
   "cell_type": "markdown",
   "id": "df95419d",
   "metadata": {},
   "source": [
    "lets reduce its numbers"
   ]
  },
  {
   "cell_type": "code",
   "execution_count": 165,
   "id": "5bb5ed2a",
   "metadata": {},
   "outputs": [
    {
     "data": {
      "text/plain": [
       "Post Graduate            373\n",
       "Graduate                 324\n",
       "Graduate Professional    245\n",
       "12th Pass                192\n",
       "10th Pass                149\n",
       "8th Pass                  67\n",
       "Illiterate                60\n",
       "Doctorate                 60\n",
       "5th Pass                  25\n",
       "Literate                  25\n",
       "Name: EDUCATION, dtype: int64"
      ]
     },
     "execution_count": 165,
     "metadata": {},
     "output_type": "execute_result"
    }
   ],
   "source": [
    "ill = ['Others','Not Available','Illiterate','Post Graduate\\n']\n",
    "data['EDUCATION']=data['EDUCATION'].apply(lambda x:'Illiterate' if x in ill else x)\n",
    "data['EDUCATION'].value_counts()"
   ]
  },
  {
   "cell_type": "code",
   "execution_count": 166,
   "id": "13d87979",
   "metadata": {},
   "outputs": [
    {
     "data": {
      "text/html": [
       "<div>\n",
       "<style scoped>\n",
       "    .dataframe tbody tr th:only-of-type {\n",
       "        vertical-align: middle;\n",
       "    }\n",
       "\n",
       "    .dataframe tbody tr th {\n",
       "        vertical-align: top;\n",
       "    }\n",
       "\n",
       "    .dataframe thead th {\n",
       "        text-align: right;\n",
       "    }\n",
       "</style>\n",
       "<table border=\"1\" class=\"dataframe\">\n",
       "  <thead>\n",
       "    <tr style=\"text-align: right;\">\n",
       "      <th></th>\n",
       "      <th>WINNER</th>\n",
       "      <th>PARTY</th>\n",
       "      <th>GENDER</th>\n",
       "      <th>CRIMINAL_CASES</th>\n",
       "      <th>AGE</th>\n",
       "      <th>CATEGORY</th>\n",
       "      <th>EDUCATION</th>\n",
       "      <th>ASSETS</th>\n",
       "      <th>LIABILITIES</th>\n",
       "      <th>TOTAL_ELECTORS</th>\n",
       "    </tr>\n",
       "  </thead>\n",
       "  <tbody>\n",
       "    <tr>\n",
       "      <th>0</th>\n",
       "      <td>1</td>\n",
       "      <td>BJP</td>\n",
       "      <td>MALE</td>\n",
       "      <td>52</td>\n",
       "      <td>52.0</td>\n",
       "      <td>ST</td>\n",
       "      <td>12th Pass</td>\n",
       "      <td>Rs 30,99,414\\n ~ 30 Lacs+</td>\n",
       "      <td>231450.0</td>\n",
       "      <td>1489790</td>\n",
       "    </tr>\n",
       "    <tr>\n",
       "      <th>1</th>\n",
       "      <td>0</td>\n",
       "      <td>Others</td>\n",
       "      <td>MALE</td>\n",
       "      <td>0</td>\n",
       "      <td>54.0</td>\n",
       "      <td>ST</td>\n",
       "      <td>Post Graduate</td>\n",
       "      <td>Rs 1,84,77,888\\n ~ 1 Crore+</td>\n",
       "      <td>847000.0</td>\n",
       "      <td>1489790</td>\n",
       "    </tr>\n",
       "    <tr>\n",
       "      <th>6</th>\n",
       "      <td>0</td>\n",
       "      <td>INC</td>\n",
       "      <td>FEMALE</td>\n",
       "      <td>0</td>\n",
       "      <td>54.0</td>\n",
       "      <td>SC</td>\n",
       "      <td>Post Graduate</td>\n",
       "      <td>Rs 5,50,75,753\\n ~ 5 Crore+</td>\n",
       "      <td>0.0</td>\n",
       "      <td>1937690</td>\n",
       "    </tr>\n",
       "    <tr>\n",
       "      <th>7</th>\n",
       "      <td>1</td>\n",
       "      <td>BJP</td>\n",
       "      <td>MALE</td>\n",
       "      <td>0</td>\n",
       "      <td>37.0</td>\n",
       "      <td>GENERAL</td>\n",
       "      <td>Doctorate</td>\n",
       "      <td>Rs 16,86,64,576\\n ~ 16 Crore+</td>\n",
       "      <td>2623964.0</td>\n",
       "      <td>1861396</td>\n",
       "    </tr>\n",
       "    <tr>\n",
       "      <th>9</th>\n",
       "      <td>0</td>\n",
       "      <td>VBA</td>\n",
       "      <td>MALE</td>\n",
       "      <td>0</td>\n",
       "      <td>62.0</td>\n",
       "      <td>GENERAL</td>\n",
       "      <td>Graduate</td>\n",
       "      <td>Rs 1,39,49,000\\n ~ 1 Crore+</td>\n",
       "      <td>1400000.0</td>\n",
       "      <td>1861396</td>\n",
       "    </tr>\n",
       "  </tbody>\n",
       "</table>\n",
       "</div>"
      ],
      "text/plain": [
       "   WINNER   PARTY  GENDER CRIMINAL_CASES   AGE CATEGORY      EDUCATION  \\\n",
       "0       1     BJP    MALE             52  52.0       ST      12th Pass   \n",
       "1       0  Others    MALE              0  54.0       ST  Post Graduate   \n",
       "6       0     INC  FEMALE              0  54.0       SC  Post Graduate   \n",
       "7       1     BJP    MALE              0  37.0  GENERAL      Doctorate   \n",
       "9       0     VBA    MALE              0  62.0  GENERAL       Graduate   \n",
       "\n",
       "                          ASSETS  LIABILITIES  TOTAL_ELECTORS  \n",
       "0      Rs 30,99,414\\n ~ 30 Lacs+     231450.0         1489790  \n",
       "1    Rs 1,84,77,888\\n ~ 1 Crore+     847000.0         1489790  \n",
       "6    Rs 5,50,75,753\\n ~ 5 Crore+          0.0         1937690  \n",
       "7  Rs 16,86,64,576\\n ~ 16 Crore+    2623964.0         1861396  \n",
       "9    Rs 1,39,49,000\\n ~ 1 Crore+    1400000.0         1861396  "
      ]
     },
     "execution_count": 166,
     "metadata": {},
     "output_type": "execute_result"
    }
   ],
   "source": [
    "data.head()"
   ]
  },
  {
   "cell_type": "markdown",
   "id": "d78acfa8",
   "metadata": {},
   "source": [
    "# 2.3 Encoding\n"
   ]
  },
  {
   "cell_type": "code",
   "execution_count": 181,
   "id": "3109c094",
   "metadata": {},
   "outputs": [],
   "source": [
    "dummy = pd.get_dummies(data[['GENDER','CATEGORY','PARTY','EDUCATION']],drop_first =True)\n",
    "feature_data = pd.concat([data,dummy],axis=1)"
   ]
  },
  {
   "cell_type": "code",
   "execution_count": 182,
   "id": "05e7378d",
   "metadata": {
    "scrolled": true
   },
   "outputs": [
    {
     "data": {
      "text/html": [
       "<div>\n",
       "<style scoped>\n",
       "    .dataframe tbody tr th:only-of-type {\n",
       "        vertical-align: middle;\n",
       "    }\n",
       "\n",
       "    .dataframe tbody tr th {\n",
       "        vertical-align: top;\n",
       "    }\n",
       "\n",
       "    .dataframe thead th {\n",
       "        text-align: right;\n",
       "    }\n",
       "</style>\n",
       "<table border=\"1\" class=\"dataframe\">\n",
       "  <thead>\n",
       "    <tr style=\"text-align: right;\">\n",
       "      <th></th>\n",
       "      <th>WINNER</th>\n",
       "      <th>PARTY</th>\n",
       "      <th>GENDER</th>\n",
       "      <th>CRIMINAL_CASES</th>\n",
       "      <th>AGE</th>\n",
       "      <th>CATEGORY</th>\n",
       "      <th>EDUCATION</th>\n",
       "      <th>ASSETS</th>\n",
       "      <th>LIABILITIES</th>\n",
       "      <th>TOTAL_ELECTORS</th>\n",
       "      <th>...</th>\n",
       "      <th>PARTY_VBA</th>\n",
       "      <th>EDUCATION_12th Pass</th>\n",
       "      <th>EDUCATION_5th Pass</th>\n",
       "      <th>EDUCATION_8th Pass</th>\n",
       "      <th>EDUCATION_Doctorate</th>\n",
       "      <th>EDUCATION_Graduate</th>\n",
       "      <th>EDUCATION_Graduate Professional</th>\n",
       "      <th>EDUCATION_Illiterate</th>\n",
       "      <th>EDUCATION_Literate</th>\n",
       "      <th>EDUCATION_Post Graduate</th>\n",
       "    </tr>\n",
       "  </thead>\n",
       "  <tbody>\n",
       "    <tr>\n",
       "      <th>0</th>\n",
       "      <td>1</td>\n",
       "      <td>BJP</td>\n",
       "      <td>MALE</td>\n",
       "      <td>52</td>\n",
       "      <td>52.0</td>\n",
       "      <td>ST</td>\n",
       "      <td>12th Pass</td>\n",
       "      <td>Rs 30,99,414\\n ~ 30 Lacs+</td>\n",
       "      <td>231450.0</td>\n",
       "      <td>1489790</td>\n",
       "      <td>...</td>\n",
       "      <td>0</td>\n",
       "      <td>1</td>\n",
       "      <td>0</td>\n",
       "      <td>0</td>\n",
       "      <td>0</td>\n",
       "      <td>0</td>\n",
       "      <td>0</td>\n",
       "      <td>0</td>\n",
       "      <td>0</td>\n",
       "      <td>0</td>\n",
       "    </tr>\n",
       "    <tr>\n",
       "      <th>1</th>\n",
       "      <td>0</td>\n",
       "      <td>Others</td>\n",
       "      <td>MALE</td>\n",
       "      <td>0</td>\n",
       "      <td>54.0</td>\n",
       "      <td>ST</td>\n",
       "      <td>Post Graduate</td>\n",
       "      <td>Rs 1,84,77,888\\n ~ 1 Crore+</td>\n",
       "      <td>847000.0</td>\n",
       "      <td>1489790</td>\n",
       "      <td>...</td>\n",
       "      <td>0</td>\n",
       "      <td>0</td>\n",
       "      <td>0</td>\n",
       "      <td>0</td>\n",
       "      <td>0</td>\n",
       "      <td>0</td>\n",
       "      <td>0</td>\n",
       "      <td>0</td>\n",
       "      <td>0</td>\n",
       "      <td>1</td>\n",
       "    </tr>\n",
       "    <tr>\n",
       "      <th>6</th>\n",
       "      <td>0</td>\n",
       "      <td>INC</td>\n",
       "      <td>FEMALE</td>\n",
       "      <td>0</td>\n",
       "      <td>54.0</td>\n",
       "      <td>SC</td>\n",
       "      <td>Post Graduate</td>\n",
       "      <td>Rs 5,50,75,753\\n ~ 5 Crore+</td>\n",
       "      <td>0.0</td>\n",
       "      <td>1937690</td>\n",
       "      <td>...</td>\n",
       "      <td>0</td>\n",
       "      <td>0</td>\n",
       "      <td>0</td>\n",
       "      <td>0</td>\n",
       "      <td>0</td>\n",
       "      <td>0</td>\n",
       "      <td>0</td>\n",
       "      <td>0</td>\n",
       "      <td>0</td>\n",
       "      <td>1</td>\n",
       "    </tr>\n",
       "    <tr>\n",
       "      <th>7</th>\n",
       "      <td>1</td>\n",
       "      <td>BJP</td>\n",
       "      <td>MALE</td>\n",
       "      <td>0</td>\n",
       "      <td>37.0</td>\n",
       "      <td>GENERAL</td>\n",
       "      <td>Doctorate</td>\n",
       "      <td>Rs 16,86,64,576\\n ~ 16 Crore+</td>\n",
       "      <td>2623964.0</td>\n",
       "      <td>1861396</td>\n",
       "      <td>...</td>\n",
       "      <td>0</td>\n",
       "      <td>0</td>\n",
       "      <td>0</td>\n",
       "      <td>0</td>\n",
       "      <td>1</td>\n",
       "      <td>0</td>\n",
       "      <td>0</td>\n",
       "      <td>0</td>\n",
       "      <td>0</td>\n",
       "      <td>0</td>\n",
       "    </tr>\n",
       "    <tr>\n",
       "      <th>9</th>\n",
       "      <td>0</td>\n",
       "      <td>VBA</td>\n",
       "      <td>MALE</td>\n",
       "      <td>0</td>\n",
       "      <td>62.0</td>\n",
       "      <td>GENERAL</td>\n",
       "      <td>Graduate</td>\n",
       "      <td>Rs 1,39,49,000\\n ~ 1 Crore+</td>\n",
       "      <td>1400000.0</td>\n",
       "      <td>1861396</td>\n",
       "      <td>...</td>\n",
       "      <td>1</td>\n",
       "      <td>0</td>\n",
       "      <td>0</td>\n",
       "      <td>0</td>\n",
       "      <td>0</td>\n",
       "      <td>1</td>\n",
       "      <td>0</td>\n",
       "      <td>0</td>\n",
       "      <td>0</td>\n",
       "      <td>0</td>\n",
       "    </tr>\n",
       "  </tbody>\n",
       "</table>\n",
       "<p>5 rows × 40 columns</p>\n",
       "</div>"
      ],
      "text/plain": [
       "   WINNER   PARTY  GENDER CRIMINAL_CASES   AGE CATEGORY      EDUCATION  \\\n",
       "0       1     BJP    MALE             52  52.0       ST      12th Pass   \n",
       "1       0  Others    MALE              0  54.0       ST  Post Graduate   \n",
       "6       0     INC  FEMALE              0  54.0       SC  Post Graduate   \n",
       "7       1     BJP    MALE              0  37.0  GENERAL      Doctorate   \n",
       "9       0     VBA    MALE              0  62.0  GENERAL       Graduate   \n",
       "\n",
       "                          ASSETS  LIABILITIES  TOTAL_ELECTORS  ...  PARTY_VBA  \\\n",
       "0      Rs 30,99,414\\n ~ 30 Lacs+     231450.0         1489790  ...          0   \n",
       "1    Rs 1,84,77,888\\n ~ 1 Crore+     847000.0         1489790  ...          0   \n",
       "6    Rs 5,50,75,753\\n ~ 5 Crore+          0.0         1937690  ...          0   \n",
       "7  Rs 16,86,64,576\\n ~ 16 Crore+    2623964.0         1861396  ...          0   \n",
       "9    Rs 1,39,49,000\\n ~ 1 Crore+    1400000.0         1861396  ...          1   \n",
       "\n",
       "   EDUCATION_12th Pass  EDUCATION_5th Pass  EDUCATION_8th Pass  \\\n",
       "0                    1                   0                   0   \n",
       "1                    0                   0                   0   \n",
       "6                    0                   0                   0   \n",
       "7                    0                   0                   0   \n",
       "9                    0                   0                   0   \n",
       "\n",
       "   EDUCATION_Doctorate  EDUCATION_Graduate  EDUCATION_Graduate Professional  \\\n",
       "0                    0                   0                                0   \n",
       "1                    0                   0                                0   \n",
       "6                    0                   0                                0   \n",
       "7                    1                   0                                0   \n",
       "9                    0                   1                                0   \n",
       "\n",
       "   EDUCATION_Illiterate  EDUCATION_Literate  EDUCATION_Post Graduate  \n",
       "0                     0                   0                        0  \n",
       "1                     0                   0                        1  \n",
       "6                     0                   0                        1  \n",
       "7                     0                   0                        0  \n",
       "9                     0                   0                        0  \n",
       "\n",
       "[5 rows x 40 columns]"
      ]
     },
     "execution_count": 182,
     "metadata": {},
     "output_type": "execute_result"
    }
   ],
   "source": [
    "feature_data.head()"
   ]
  },
  {
   "cell_type": "markdown",
   "id": "569d7c4a",
   "metadata": {},
   "source": [
    "drops previous catagorical columns"
   ]
  },
  {
   "cell_type": "code",
   "execution_count": 183,
   "id": "9746f499",
   "metadata": {},
   "outputs": [],
   "source": [
    "feature_data.drop(['PARTY','GENDER','CATEGORY','EDUCATION'],axis=1, inplace =True)"
   ]
  },
  {
   "cell_type": "code",
   "execution_count": 184,
   "id": "1b0d915d",
   "metadata": {},
   "outputs": [
    {
     "data": {
      "text/html": [
       "<div>\n",
       "<style scoped>\n",
       "    .dataframe tbody tr th:only-of-type {\n",
       "        vertical-align: middle;\n",
       "    }\n",
       "\n",
       "    .dataframe tbody tr th {\n",
       "        vertical-align: top;\n",
       "    }\n",
       "\n",
       "    .dataframe thead th {\n",
       "        text-align: right;\n",
       "    }\n",
       "</style>\n",
       "<table border=\"1\" class=\"dataframe\">\n",
       "  <thead>\n",
       "    <tr style=\"text-align: right;\">\n",
       "      <th></th>\n",
       "      <th>WINNER</th>\n",
       "      <th>CRIMINAL_CASES</th>\n",
       "      <th>AGE</th>\n",
       "      <th>ASSETS</th>\n",
       "      <th>LIABILITIES</th>\n",
       "      <th>TOTAL_ELECTORS</th>\n",
       "      <th>GENDER_MALE</th>\n",
       "      <th>CATEGORY_SC</th>\n",
       "      <th>CATEGORY_ST</th>\n",
       "      <th>PARTY_AITC</th>\n",
       "      <th>...</th>\n",
       "      <th>PARTY_VBA</th>\n",
       "      <th>EDUCATION_12th Pass</th>\n",
       "      <th>EDUCATION_5th Pass</th>\n",
       "      <th>EDUCATION_8th Pass</th>\n",
       "      <th>EDUCATION_Doctorate</th>\n",
       "      <th>EDUCATION_Graduate</th>\n",
       "      <th>EDUCATION_Graduate Professional</th>\n",
       "      <th>EDUCATION_Illiterate</th>\n",
       "      <th>EDUCATION_Literate</th>\n",
       "      <th>EDUCATION_Post Graduate</th>\n",
       "    </tr>\n",
       "  </thead>\n",
       "  <tbody>\n",
       "    <tr>\n",
       "      <th>0</th>\n",
       "      <td>1</td>\n",
       "      <td>52</td>\n",
       "      <td>52.0</td>\n",
       "      <td>Rs 30,99,414\\n ~ 30 Lacs+</td>\n",
       "      <td>231450.0</td>\n",
       "      <td>1489790</td>\n",
       "      <td>1</td>\n",
       "      <td>0</td>\n",
       "      <td>1</td>\n",
       "      <td>0</td>\n",
       "      <td>...</td>\n",
       "      <td>0</td>\n",
       "      <td>1</td>\n",
       "      <td>0</td>\n",
       "      <td>0</td>\n",
       "      <td>0</td>\n",
       "      <td>0</td>\n",
       "      <td>0</td>\n",
       "      <td>0</td>\n",
       "      <td>0</td>\n",
       "      <td>0</td>\n",
       "    </tr>\n",
       "    <tr>\n",
       "      <th>1</th>\n",
       "      <td>0</td>\n",
       "      <td>0</td>\n",
       "      <td>54.0</td>\n",
       "      <td>Rs 1,84,77,888\\n ~ 1 Crore+</td>\n",
       "      <td>847000.0</td>\n",
       "      <td>1489790</td>\n",
       "      <td>1</td>\n",
       "      <td>0</td>\n",
       "      <td>1</td>\n",
       "      <td>0</td>\n",
       "      <td>...</td>\n",
       "      <td>0</td>\n",
       "      <td>0</td>\n",
       "      <td>0</td>\n",
       "      <td>0</td>\n",
       "      <td>0</td>\n",
       "      <td>0</td>\n",
       "      <td>0</td>\n",
       "      <td>0</td>\n",
       "      <td>0</td>\n",
       "      <td>1</td>\n",
       "    </tr>\n",
       "    <tr>\n",
       "      <th>6</th>\n",
       "      <td>0</td>\n",
       "      <td>0</td>\n",
       "      <td>54.0</td>\n",
       "      <td>Rs 5,50,75,753\\n ~ 5 Crore+</td>\n",
       "      <td>0.0</td>\n",
       "      <td>1937690</td>\n",
       "      <td>0</td>\n",
       "      <td>1</td>\n",
       "      <td>0</td>\n",
       "      <td>0</td>\n",
       "      <td>...</td>\n",
       "      <td>0</td>\n",
       "      <td>0</td>\n",
       "      <td>0</td>\n",
       "      <td>0</td>\n",
       "      <td>0</td>\n",
       "      <td>0</td>\n",
       "      <td>0</td>\n",
       "      <td>0</td>\n",
       "      <td>0</td>\n",
       "      <td>1</td>\n",
       "    </tr>\n",
       "    <tr>\n",
       "      <th>7</th>\n",
       "      <td>1</td>\n",
       "      <td>0</td>\n",
       "      <td>37.0</td>\n",
       "      <td>Rs 16,86,64,576\\n ~ 16 Crore+</td>\n",
       "      <td>2623964.0</td>\n",
       "      <td>1861396</td>\n",
       "      <td>1</td>\n",
       "      <td>0</td>\n",
       "      <td>0</td>\n",
       "      <td>0</td>\n",
       "      <td>...</td>\n",
       "      <td>0</td>\n",
       "      <td>0</td>\n",
       "      <td>0</td>\n",
       "      <td>0</td>\n",
       "      <td>1</td>\n",
       "      <td>0</td>\n",
       "      <td>0</td>\n",
       "      <td>0</td>\n",
       "      <td>0</td>\n",
       "      <td>0</td>\n",
       "    </tr>\n",
       "    <tr>\n",
       "      <th>9</th>\n",
       "      <td>0</td>\n",
       "      <td>0</td>\n",
       "      <td>62.0</td>\n",
       "      <td>Rs 1,39,49,000\\n ~ 1 Crore+</td>\n",
       "      <td>1400000.0</td>\n",
       "      <td>1861396</td>\n",
       "      <td>1</td>\n",
       "      <td>0</td>\n",
       "      <td>0</td>\n",
       "      <td>0</td>\n",
       "      <td>...</td>\n",
       "      <td>1</td>\n",
       "      <td>0</td>\n",
       "      <td>0</td>\n",
       "      <td>0</td>\n",
       "      <td>0</td>\n",
       "      <td>1</td>\n",
       "      <td>0</td>\n",
       "      <td>0</td>\n",
       "      <td>0</td>\n",
       "      <td>0</td>\n",
       "    </tr>\n",
       "  </tbody>\n",
       "</table>\n",
       "<p>5 rows × 36 columns</p>\n",
       "</div>"
      ],
      "text/plain": [
       "   WINNER CRIMINAL_CASES   AGE                         ASSETS  LIABILITIES  \\\n",
       "0       1             52  52.0      Rs 30,99,414\\n ~ 30 Lacs+     231450.0   \n",
       "1       0              0  54.0    Rs 1,84,77,888\\n ~ 1 Crore+     847000.0   \n",
       "6       0              0  54.0    Rs 5,50,75,753\\n ~ 5 Crore+          0.0   \n",
       "7       1              0  37.0  Rs 16,86,64,576\\n ~ 16 Crore+    2623964.0   \n",
       "9       0              0  62.0    Rs 1,39,49,000\\n ~ 1 Crore+    1400000.0   \n",
       "\n",
       "   TOTAL_ELECTORS  GENDER_MALE  CATEGORY_SC  CATEGORY_ST  PARTY_AITC  ...  \\\n",
       "0         1489790            1            0            1           0  ...   \n",
       "1         1489790            1            0            1           0  ...   \n",
       "6         1937690            0            1            0           0  ...   \n",
       "7         1861396            1            0            0           0  ...   \n",
       "9         1861396            1            0            0           0  ...   \n",
       "\n",
       "   PARTY_VBA  EDUCATION_12th Pass  EDUCATION_5th Pass  EDUCATION_8th Pass  \\\n",
       "0          0                    1                   0                   0   \n",
       "1          0                    0                   0                   0   \n",
       "6          0                    0                   0                   0   \n",
       "7          0                    0                   0                   0   \n",
       "9          1                    0                   0                   0   \n",
       "\n",
       "   EDUCATION_Doctorate  EDUCATION_Graduate  EDUCATION_Graduate Professional  \\\n",
       "0                    0                   0                                0   \n",
       "1                    0                   0                                0   \n",
       "6                    0                   0                                0   \n",
       "7                    1                   0                                0   \n",
       "9                    0                   1                                0   \n",
       "\n",
       "   EDUCATION_Illiterate  EDUCATION_Literate  EDUCATION_Post Graduate  \n",
       "0                     0                   0                        0  \n",
       "1                     0                   0                        1  \n",
       "6                     0                   0                        1  \n",
       "7                     0                   0                        0  \n",
       "9                     0                   0                        0  \n",
       "\n",
       "[5 rows x 36 columns]"
      ]
     },
     "execution_count": 184,
     "metadata": {},
     "output_type": "execute_result"
    }
   ],
   "source": [
    "# final data\n",
    "feature_data.head()"
   ]
  },
  {
   "cell_type": "code",
   "execution_count": 185,
   "id": "40d6fa5c",
   "metadata": {},
   "outputs": [],
   "source": [
    "df = feature_data.copy()"
   ]
  },
  {
   "cell_type": "markdown",
   "id": "49a39e78",
   "metadata": {},
   "source": [
    "# Training and Test Data Spliting"
   ]
  },
  {
   "cell_type": "code",
   "execution_count": 186,
   "id": "648109b0",
   "metadata": {},
   "outputs": [],
   "source": [
    "# split the dataset"
   ]
  },
  {
   "cell_type": "code",
   "execution_count": 187,
   "id": "40e57327",
   "metadata": {},
   "outputs": [],
   "source": [
    "X = df.drop(['WINNER','ASSETS'],axis=1)\n",
    "y = df['WINNER']"
   ]
  },
  {
   "cell_type": "code",
   "execution_count": 188,
   "id": "a13f276f",
   "metadata": {},
   "outputs": [
    {
     "data": {
      "text/html": [
       "<div>\n",
       "<style scoped>\n",
       "    .dataframe tbody tr th:only-of-type {\n",
       "        vertical-align: middle;\n",
       "    }\n",
       "\n",
       "    .dataframe tbody tr th {\n",
       "        vertical-align: top;\n",
       "    }\n",
       "\n",
       "    .dataframe thead th {\n",
       "        text-align: right;\n",
       "    }\n",
       "</style>\n",
       "<table border=\"1\" class=\"dataframe\">\n",
       "  <thead>\n",
       "    <tr style=\"text-align: right;\">\n",
       "      <th></th>\n",
       "      <th>CRIMINAL_CASES</th>\n",
       "      <th>AGE</th>\n",
       "      <th>LIABILITIES</th>\n",
       "      <th>TOTAL_ELECTORS</th>\n",
       "      <th>GENDER_MALE</th>\n",
       "      <th>CATEGORY_SC</th>\n",
       "      <th>CATEGORY_ST</th>\n",
       "      <th>PARTY_AITC</th>\n",
       "      <th>PARTY_BJD</th>\n",
       "      <th>PARTY_BJP</th>\n",
       "      <th>...</th>\n",
       "      <th>PARTY_VBA</th>\n",
       "      <th>EDUCATION_12th Pass</th>\n",
       "      <th>EDUCATION_5th Pass</th>\n",
       "      <th>EDUCATION_8th Pass</th>\n",
       "      <th>EDUCATION_Doctorate</th>\n",
       "      <th>EDUCATION_Graduate</th>\n",
       "      <th>EDUCATION_Graduate Professional</th>\n",
       "      <th>EDUCATION_Illiterate</th>\n",
       "      <th>EDUCATION_Literate</th>\n",
       "      <th>EDUCATION_Post Graduate</th>\n",
       "    </tr>\n",
       "  </thead>\n",
       "  <tbody>\n",
       "    <tr>\n",
       "      <th>0</th>\n",
       "      <td>52</td>\n",
       "      <td>52.0</td>\n",
       "      <td>231450.0</td>\n",
       "      <td>1489790</td>\n",
       "      <td>1</td>\n",
       "      <td>0</td>\n",
       "      <td>1</td>\n",
       "      <td>0</td>\n",
       "      <td>0</td>\n",
       "      <td>1</td>\n",
       "      <td>...</td>\n",
       "      <td>0</td>\n",
       "      <td>1</td>\n",
       "      <td>0</td>\n",
       "      <td>0</td>\n",
       "      <td>0</td>\n",
       "      <td>0</td>\n",
       "      <td>0</td>\n",
       "      <td>0</td>\n",
       "      <td>0</td>\n",
       "      <td>0</td>\n",
       "    </tr>\n",
       "    <tr>\n",
       "      <th>1</th>\n",
       "      <td>0</td>\n",
       "      <td>54.0</td>\n",
       "      <td>847000.0</td>\n",
       "      <td>1489790</td>\n",
       "      <td>1</td>\n",
       "      <td>0</td>\n",
       "      <td>1</td>\n",
       "      <td>0</td>\n",
       "      <td>0</td>\n",
       "      <td>0</td>\n",
       "      <td>...</td>\n",
       "      <td>0</td>\n",
       "      <td>0</td>\n",
       "      <td>0</td>\n",
       "      <td>0</td>\n",
       "      <td>0</td>\n",
       "      <td>0</td>\n",
       "      <td>0</td>\n",
       "      <td>0</td>\n",
       "      <td>0</td>\n",
       "      <td>1</td>\n",
       "    </tr>\n",
       "    <tr>\n",
       "      <th>6</th>\n",
       "      <td>0</td>\n",
       "      <td>54.0</td>\n",
       "      <td>0.0</td>\n",
       "      <td>1937690</td>\n",
       "      <td>0</td>\n",
       "      <td>1</td>\n",
       "      <td>0</td>\n",
       "      <td>0</td>\n",
       "      <td>0</td>\n",
       "      <td>0</td>\n",
       "      <td>...</td>\n",
       "      <td>0</td>\n",
       "      <td>0</td>\n",
       "      <td>0</td>\n",
       "      <td>0</td>\n",
       "      <td>0</td>\n",
       "      <td>0</td>\n",
       "      <td>0</td>\n",
       "      <td>0</td>\n",
       "      <td>0</td>\n",
       "      <td>1</td>\n",
       "    </tr>\n",
       "    <tr>\n",
       "      <th>7</th>\n",
       "      <td>0</td>\n",
       "      <td>37.0</td>\n",
       "      <td>2623964.0</td>\n",
       "      <td>1861396</td>\n",
       "      <td>1</td>\n",
       "      <td>0</td>\n",
       "      <td>0</td>\n",
       "      <td>0</td>\n",
       "      <td>0</td>\n",
       "      <td>1</td>\n",
       "      <td>...</td>\n",
       "      <td>0</td>\n",
       "      <td>0</td>\n",
       "      <td>0</td>\n",
       "      <td>0</td>\n",
       "      <td>1</td>\n",
       "      <td>0</td>\n",
       "      <td>0</td>\n",
       "      <td>0</td>\n",
       "      <td>0</td>\n",
       "      <td>0</td>\n",
       "    </tr>\n",
       "    <tr>\n",
       "      <th>9</th>\n",
       "      <td>0</td>\n",
       "      <td>62.0</td>\n",
       "      <td>1400000.0</td>\n",
       "      <td>1861396</td>\n",
       "      <td>1</td>\n",
       "      <td>0</td>\n",
       "      <td>0</td>\n",
       "      <td>0</td>\n",
       "      <td>0</td>\n",
       "      <td>0</td>\n",
       "      <td>...</td>\n",
       "      <td>1</td>\n",
       "      <td>0</td>\n",
       "      <td>0</td>\n",
       "      <td>0</td>\n",
       "      <td>0</td>\n",
       "      <td>1</td>\n",
       "      <td>0</td>\n",
       "      <td>0</td>\n",
       "      <td>0</td>\n",
       "      <td>0</td>\n",
       "    </tr>\n",
       "    <tr>\n",
       "      <th>...</th>\n",
       "      <td>...</td>\n",
       "      <td>...</td>\n",
       "      <td>...</td>\n",
       "      <td>...</td>\n",
       "      <td>...</td>\n",
       "      <td>...</td>\n",
       "      <td>...</td>\n",
       "      <td>...</td>\n",
       "      <td>...</td>\n",
       "      <td>...</td>\n",
       "      <td>...</td>\n",
       "      <td>...</td>\n",
       "      <td>...</td>\n",
       "      <td>...</td>\n",
       "      <td>...</td>\n",
       "      <td>...</td>\n",
       "      <td>...</td>\n",
       "      <td>...</td>\n",
       "      <td>...</td>\n",
       "      <td>...</td>\n",
       "      <td>...</td>\n",
       "    </tr>\n",
       "    <tr>\n",
       "      <th>2256</th>\n",
       "      <td>0</td>\n",
       "      <td>64.0</td>\n",
       "      <td>417919.0</td>\n",
       "      <td>1916185</td>\n",
       "      <td>1</td>\n",
       "      <td>0</td>\n",
       "      <td>0</td>\n",
       "      <td>0</td>\n",
       "      <td>0</td>\n",
       "      <td>0</td>\n",
       "      <td>...</td>\n",
       "      <td>0</td>\n",
       "      <td>0</td>\n",
       "      <td>0</td>\n",
       "      <td>0</td>\n",
       "      <td>0</td>\n",
       "      <td>0</td>\n",
       "      <td>0</td>\n",
       "      <td>0</td>\n",
       "      <td>0</td>\n",
       "      <td>1</td>\n",
       "    </tr>\n",
       "    <tr>\n",
       "      <th>2257</th>\n",
       "      <td>0</td>\n",
       "      <td>28.0</td>\n",
       "      <td>9000.0</td>\n",
       "      <td>1916185</td>\n",
       "      <td>0</td>\n",
       "      <td>0</td>\n",
       "      <td>0</td>\n",
       "      <td>0</td>\n",
       "      <td>0</td>\n",
       "      <td>0</td>\n",
       "      <td>...</td>\n",
       "      <td>0</td>\n",
       "      <td>0</td>\n",
       "      <td>0</td>\n",
       "      <td>0</td>\n",
       "      <td>0</td>\n",
       "      <td>0</td>\n",
       "      <td>0</td>\n",
       "      <td>0</td>\n",
       "      <td>0</td>\n",
       "      <td>0</td>\n",
       "    </tr>\n",
       "    <tr>\n",
       "      <th>2258</th>\n",
       "      <td>0</td>\n",
       "      <td>43.0</td>\n",
       "      <td>1020000.0</td>\n",
       "      <td>1916185</td>\n",
       "      <td>1</td>\n",
       "      <td>0</td>\n",
       "      <td>0</td>\n",
       "      <td>0</td>\n",
       "      <td>0</td>\n",
       "      <td>0</td>\n",
       "      <td>...</td>\n",
       "      <td>0</td>\n",
       "      <td>0</td>\n",
       "      <td>0</td>\n",
       "      <td>0</td>\n",
       "      <td>0</td>\n",
       "      <td>0</td>\n",
       "      <td>0</td>\n",
       "      <td>0</td>\n",
       "      <td>0</td>\n",
       "      <td>1</td>\n",
       "    </tr>\n",
       "    <tr>\n",
       "      <th>2260</th>\n",
       "      <td>0</td>\n",
       "      <td>49.0</td>\n",
       "      <td>0.0</td>\n",
       "      <td>1498666</td>\n",
       "      <td>1</td>\n",
       "      <td>0</td>\n",
       "      <td>0</td>\n",
       "      <td>0</td>\n",
       "      <td>0</td>\n",
       "      <td>0</td>\n",
       "      <td>...</td>\n",
       "      <td>0</td>\n",
       "      <td>0</td>\n",
       "      <td>0</td>\n",
       "      <td>0</td>\n",
       "      <td>0</td>\n",
       "      <td>0</td>\n",
       "      <td>0</td>\n",
       "      <td>0</td>\n",
       "      <td>0</td>\n",
       "      <td>1</td>\n",
       "    </tr>\n",
       "    <tr>\n",
       "      <th>2261</th>\n",
       "      <td>3</td>\n",
       "      <td>47.0</td>\n",
       "      <td>5250000.0</td>\n",
       "      <td>1498666</td>\n",
       "      <td>1</td>\n",
       "      <td>0</td>\n",
       "      <td>0</td>\n",
       "      <td>0</td>\n",
       "      <td>0</td>\n",
       "      <td>1</td>\n",
       "      <td>...</td>\n",
       "      <td>0</td>\n",
       "      <td>1</td>\n",
       "      <td>0</td>\n",
       "      <td>0</td>\n",
       "      <td>0</td>\n",
       "      <td>0</td>\n",
       "      <td>0</td>\n",
       "      <td>0</td>\n",
       "      <td>0</td>\n",
       "      <td>0</td>\n",
       "    </tr>\n",
       "  </tbody>\n",
       "</table>\n",
       "<p>1520 rows × 34 columns</p>\n",
       "</div>"
      ],
      "text/plain": [
       "     CRIMINAL_CASES   AGE  LIABILITIES  TOTAL_ELECTORS  GENDER_MALE  \\\n",
       "0                52  52.0     231450.0         1489790            1   \n",
       "1                 0  54.0     847000.0         1489790            1   \n",
       "6                 0  54.0          0.0         1937690            0   \n",
       "7                 0  37.0    2623964.0         1861396            1   \n",
       "9                 0  62.0    1400000.0         1861396            1   \n",
       "...             ...   ...          ...             ...          ...   \n",
       "2256              0  64.0     417919.0         1916185            1   \n",
       "2257              0  28.0       9000.0         1916185            0   \n",
       "2258              0  43.0    1020000.0         1916185            1   \n",
       "2260              0  49.0          0.0         1498666            1   \n",
       "2261              3  47.0    5250000.0         1498666            1   \n",
       "\n",
       "      CATEGORY_SC  CATEGORY_ST  PARTY_AITC  PARTY_BJD  PARTY_BJP  ...  \\\n",
       "0               0            1           0          0          1  ...   \n",
       "1               0            1           0          0          0  ...   \n",
       "6               1            0           0          0          0  ...   \n",
       "7               0            0           0          0          1  ...   \n",
       "9               0            0           0          0          0  ...   \n",
       "...           ...          ...         ...        ...        ...  ...   \n",
       "2256            0            0           0          0          0  ...   \n",
       "2257            0            0           0          0          0  ...   \n",
       "2258            0            0           0          0          0  ...   \n",
       "2260            0            0           0          0          0  ...   \n",
       "2261            0            0           0          0          1  ...   \n",
       "\n",
       "      PARTY_VBA  EDUCATION_12th Pass  EDUCATION_5th Pass  EDUCATION_8th Pass  \\\n",
       "0             0                    1                   0                   0   \n",
       "1             0                    0                   0                   0   \n",
       "6             0                    0                   0                   0   \n",
       "7             0                    0                   0                   0   \n",
       "9             1                    0                   0                   0   \n",
       "...         ...                  ...                 ...                 ...   \n",
       "2256          0                    0                   0                   0   \n",
       "2257          0                    0                   0                   0   \n",
       "2258          0                    0                   0                   0   \n",
       "2260          0                    0                   0                   0   \n",
       "2261          0                    1                   0                   0   \n",
       "\n",
       "      EDUCATION_Doctorate  EDUCATION_Graduate  \\\n",
       "0                       0                   0   \n",
       "1                       0                   0   \n",
       "6                       0                   0   \n",
       "7                       1                   0   \n",
       "9                       0                   1   \n",
       "...                   ...                 ...   \n",
       "2256                    0                   0   \n",
       "2257                    0                   0   \n",
       "2258                    0                   0   \n",
       "2260                    0                   0   \n",
       "2261                    0                   0   \n",
       "\n",
       "      EDUCATION_Graduate Professional  EDUCATION_Illiterate  \\\n",
       "0                                   0                     0   \n",
       "1                                   0                     0   \n",
       "6                                   0                     0   \n",
       "7                                   0                     0   \n",
       "9                                   0                     0   \n",
       "...                               ...                   ...   \n",
       "2256                                0                     0   \n",
       "2257                                0                     0   \n",
       "2258                                0                     0   \n",
       "2260                                0                     0   \n",
       "2261                                0                     0   \n",
       "\n",
       "      EDUCATION_Literate  EDUCATION_Post Graduate  \n",
       "0                      0                        0  \n",
       "1                      0                        1  \n",
       "6                      0                        1  \n",
       "7                      0                        0  \n",
       "9                      0                        0  \n",
       "...                  ...                      ...  \n",
       "2256                   0                        1  \n",
       "2257                   0                        0  \n",
       "2258                   0                        1  \n",
       "2260                   0                        1  \n",
       "2261                   0                        0  \n",
       "\n",
       "[1520 rows x 34 columns]"
      ]
     },
     "execution_count": 188,
     "metadata": {},
     "output_type": "execute_result"
    }
   ],
   "source": [
    "# print x\n",
    "X"
   ]
  },
  {
   "cell_type": "code",
   "execution_count": 189,
   "id": "70e8bce4",
   "metadata": {},
   "outputs": [
    {
     "data": {
      "text/plain": [
       "0       1\n",
       "1       0\n",
       "6       0\n",
       "7       1\n",
       "9       0\n",
       "       ..\n",
       "2256    0\n",
       "2257    0\n",
       "2258    0\n",
       "2260    0\n",
       "2261    0\n",
       "Name: WINNER, Length: 1520, dtype: int64"
      ]
     },
     "execution_count": 189,
     "metadata": {},
     "output_type": "execute_result"
    }
   ],
   "source": [
    "# print y\n",
    "y"
   ]
  },
  {
   "cell_type": "code",
   "execution_count": 190,
   "id": "5de73fbc",
   "metadata": {},
   "outputs": [
    {
     "data": {
      "text/plain": [
       "(1140, 34)"
      ]
     },
     "execution_count": 190,
     "metadata": {},
     "output_type": "execute_result"
    }
   ],
   "source": [
    "from sklearn.model_selection import train_test_split\n",
    "X_train,X_test,y_train,y_test = train_test_split(X,y, random_state = 42,test_size =0.25)\n",
    "X_train.shape"
   ]
  },
  {
   "cell_type": "code",
   "execution_count": 191,
   "id": "d9e4e110",
   "metadata": {},
   "outputs": [
    {
     "data": {
      "text/plain": [
       "(380, 34)"
      ]
     },
     "execution_count": 191,
     "metadata": {},
     "output_type": "execute_result"
    }
   ],
   "source": [
    "X_test.shape"
   ]
  },
  {
   "cell_type": "markdown",
   "id": "b61d65bb",
   "metadata": {},
   "source": [
    "# 2.5 Standarzing the features (Data Normalisation)"
   ]
  },
  {
   "cell_type": "code",
   "execution_count": 192,
   "id": "fb858ed4",
   "metadata": {},
   "outputs": [
    {
     "data": {
      "text/plain": [
       "(1140, 34)"
      ]
     },
     "execution_count": 192,
     "metadata": {},
     "output_type": "execute_result"
    }
   ],
   "source": [
    "from sklearn.preprocessing import StandardScaler\n",
    "sc = StandardScaler()\n",
    "X_train =sc.fit_transform(X_train)\n",
    "X_test = sc.fit_transform(X_test)\n",
    "X_train.shape"
   ]
  },
  {
   "cell_type": "markdown",
   "id": "53bf76ac",
   "metadata": {},
   "source": [
    "# 3. Data Anaylsis"
   ]
  },
  {
   "cell_type": "code",
   "execution_count": 193,
   "id": "bb1362c3",
   "metadata": {},
   "outputs": [
    {
     "name": "stdout",
     "output_type": "stream",
     "text": [
      "<class 'pandas.core.frame.DataFrame'>\n",
      "Int64Index: 1520 entries, 0 to 2261\n",
      "Data columns (total 10 columns):\n",
      " #   Column          Non-Null Count  Dtype  \n",
      "---  ------          --------------  -----  \n",
      " 0   WINNER          1520 non-null   int64  \n",
      " 1   PARTY           1520 non-null   object \n",
      " 2   GENDER          1520 non-null   object \n",
      " 3   CRIMINAL_CASES  1520 non-null   object \n",
      " 4   AGE             1520 non-null   float64\n",
      " 5   CATEGORY        1520 non-null   object \n",
      " 6   EDUCATION       1520 non-null   object \n",
      " 7   ASSETS          1520 non-null   object \n",
      " 8   LIABILITIES     1520 non-null   float64\n",
      " 9   TOTAL_ELECTORS  1520 non-null   int64  \n",
      "dtypes: float64(2), int64(2), object(6)\n",
      "memory usage: 130.6+ KB\n"
     ]
    }
   ],
   "source": [
    "data.info()\n"
   ]
  },
  {
   "cell_type": "code",
   "execution_count": 86,
   "id": "2c564a37",
   "metadata": {},
   "outputs": [
    {
     "data": {
      "text/html": [
       "<div>\n",
       "<style scoped>\n",
       "    .dataframe tbody tr th:only-of-type {\n",
       "        vertical-align: middle;\n",
       "    }\n",
       "\n",
       "    .dataframe tbody tr th {\n",
       "        vertical-align: top;\n",
       "    }\n",
       "\n",
       "    .dataframe thead th {\n",
       "        text-align: right;\n",
       "    }\n",
       "</style>\n",
       "<table border=\"1\" class=\"dataframe\">\n",
       "  <thead>\n",
       "    <tr style=\"text-align: right;\">\n",
       "      <th></th>\n",
       "      <th>WINNER</th>\n",
       "      <th>AGE</th>\n",
       "      <th>LIABILITIES</th>\n",
       "      <th>TOTAL_ELECTORS</th>\n",
       "    </tr>\n",
       "  </thead>\n",
       "  <tbody>\n",
       "    <tr>\n",
       "      <th>count</th>\n",
       "      <td>1707.000000</td>\n",
       "      <td>1707.000000</td>\n",
       "      <td>1.707000e+03</td>\n",
       "      <td>1.707000e+03</td>\n",
       "    </tr>\n",
       "    <tr>\n",
       "      <th>mean</th>\n",
       "      <td>0.246632</td>\n",
       "      <td>52.171646</td>\n",
       "      <td>1.978619e+06</td>\n",
       "      <td>1.647403e+06</td>\n",
       "    </tr>\n",
       "    <tr>\n",
       "      <th>std</th>\n",
       "      <td>0.431177</td>\n",
       "      <td>12.032311</td>\n",
       "      <td>3.195276e+06</td>\n",
       "      <td>3.067866e+05</td>\n",
       "    </tr>\n",
       "    <tr>\n",
       "      <th>min</th>\n",
       "      <td>0.000000</td>\n",
       "      <td>25.000000</td>\n",
       "      <td>0.000000e+00</td>\n",
       "      <td>5.518900e+04</td>\n",
       "    </tr>\n",
       "    <tr>\n",
       "      <th>25%</th>\n",
       "      <td>0.000000</td>\n",
       "      <td>43.000000</td>\n",
       "      <td>0.000000e+00</td>\n",
       "      <td>1.525150e+06</td>\n",
       "    </tr>\n",
       "    <tr>\n",
       "      <th>50%</th>\n",
       "      <td>0.000000</td>\n",
       "      <td>53.000000</td>\n",
       "      <td>4.166120e+05</td>\n",
       "      <td>1.683325e+06</td>\n",
       "    </tr>\n",
       "    <tr>\n",
       "      <th>75%</th>\n",
       "      <td>0.000000</td>\n",
       "      <td>61.000000</td>\n",
       "      <td>2.500000e+06</td>\n",
       "      <td>1.811851e+06</td>\n",
       "    </tr>\n",
       "    <tr>\n",
       "      <th>max</th>\n",
       "      <td>1.000000</td>\n",
       "      <td>86.000000</td>\n",
       "      <td>1.516338e+07</td>\n",
       "      <td>3.150313e+06</td>\n",
       "    </tr>\n",
       "  </tbody>\n",
       "</table>\n",
       "</div>"
      ],
      "text/plain": [
       "            WINNER          AGE   LIABILITIES  TOTAL_ELECTORS\n",
       "count  1707.000000  1707.000000  1.707000e+03    1.707000e+03\n",
       "mean      0.246632    52.171646  1.978619e+06    1.647403e+06\n",
       "std       0.431177    12.032311  3.195276e+06    3.067866e+05\n",
       "min       0.000000    25.000000  0.000000e+00    5.518900e+04\n",
       "25%       0.000000    43.000000  0.000000e+00    1.525150e+06\n",
       "50%       0.000000    53.000000  4.166120e+05    1.683325e+06\n",
       "75%       0.000000    61.000000  2.500000e+06    1.811851e+06\n",
       "max       1.000000    86.000000  1.516338e+07    3.150313e+06"
      ]
     },
     "execution_count": 86,
     "metadata": {},
     "output_type": "execute_result"
    }
   ],
   "source": [
    "Elec_df.describe()"
   ]
  },
  {
   "cell_type": "markdown",
   "id": "5d3d6692",
   "metadata": {},
   "source": [
    "india has highest number of young voters. Lets the distribution in 2019 Election"
   ]
  },
  {
   "cell_type": "markdown",
   "id": "45ddfce5",
   "metadata": {},
   "source": [
    "# Age Distribution"
   ]
  },
  {
   "cell_type": "code",
   "execution_count": 196,
   "id": "4c741cb1",
   "metadata": {
    "scrolled": true
   },
   "outputs": [
    {
     "name": "stderr",
     "output_type": "stream",
     "text": [
      "C:\\Users\\shah\\anaconda3\\lib\\site-packages\\seaborn\\distributions.py:2557: FutureWarning: `distplot` is a deprecated function and will be removed in a future version. Please adapt your code to use either `displot` (a figure-level function with similar flexibility) or `histplot` (an axes-level function for histograms).\n",
      "  warnings.warn(msg, FutureWarning)\n",
      "C:\\Users\\shah\\anaconda3\\lib\\site-packages\\seaborn\\distributions.py:2056: FutureWarning: The `axis` variable is no longer used and will be removed. Instead, assign variables directly to `x` or `y`.\n",
      "  warnings.warn(msg, FutureWarning)\n"
     ]
    },
    {
     "data": {
      "image/png": "[encoded data removed]",
      "text/plain": [
       "<Figure size 1440x720 with 1 Axes>"
      ]
     },
     "metadata": {},
     "output_type": "display_data"
    }
   ],
   "source": [
    "plt.figure(figsize=(20,10))\n",
    "plt.style.use('ggplot')\n",
    "sns.distplot(data['AGE'],rug=True)\n",
    "            \n",
    "plt.yticks([])\n",
    "plt.xticks(fontsize=22)\n",
    "plt.show()"
   ]
  },
  {
   "cell_type": "markdown",
   "id": "481d9edb",
   "metadata": {},
   "source": [
    "# Number of candidates by top 10 party"
   ]
  },
  {
   "cell_type": "code",
   "execution_count": 197,
   "id": "e8024f4f",
   "metadata": {},
   "outputs": [
    {
     "data": {
      "image/png": "[encoded data removed]",
      "text/plain": [
       "<Figure size 1296x720 with 1 Axes>"
      ]
     },
     "metadata": {},
     "output_type": "display_data"
    }
   ],
   "source": [
    "plt.figure(figsize=(18,10))\n",
    "sns.countplot(x='PARTY',data=data,order=data.PARTY.value_counts().iloc[:10].index)\n",
    "plt.ylabel('No. of Candidates')\n",
    "plt.xticks(fontsize=20,fontweight=1000)\n",
    "plt.yticks(fontsize=20)\n",
    "plt.xlabel('Party',fontsize=20,fontweight = 'bold')\n",
    "plt.xlabel('No. of Candidates',fontsize=20,fontweight = 'bold')\n",
    "plt.show()"
   ]
  },
  {
   "cell_type": "markdown",
   "id": "0c209961",
   "metadata": {},
   "source": [
    "# Gender Distribution of Candidates"
   ]
  },
  {
   "cell_type": "code",
   "execution_count": 93,
   "id": "853ffe67",
   "metadata": {},
   "outputs": [
    {
     "data": {
      "image/png": "[encoded data removed]",
      "text/plain": [
       "<Figure size 1152x576 with 1 Axes>"
      ]
     },
     "metadata": {},
     "output_type": "display_data"
    }
   ],
   "source": [
    "plt.figure(figsize=(16,8))\n",
    "plt.pie(Elec_df['GENDER'].value_counts(),labels =['Male','Female'],explode = (0, 0.1),shadow=True,autopct='%1.1f%%')\n",
    "plt.show()\n"
   ]
  },
  {
   "cell_type": "markdown",
   "id": "fcf5db63",
   "metadata": {},
   "source": [
    "# Age Distribution of Candidates wrt gender and catagory"
   ]
  },
  {
   "cell_type": "code",
   "execution_count": 198,
   "id": "fcf646cc",
   "metadata": {},
   "outputs": [
    {
     "data": {
      "image/png": "[encoded data removed]",
      "text/plain": [
       "<Figure size 1152x576 with 1 Axes>"
      ]
     },
     "metadata": {},
     "output_type": "display_data"
    }
   ],
   "source": [
    "plt.figure(figsize=(16,8))\n",
    "sns.violinplot(x='CATEGORY',y='AGE',data=data,hue='GENDER',split=True)\n",
    "plt.xticks(fontsize=20,fontweight=200)\n",
    "plt.yticks(fontsize=20)\n",
    "plt.show()"
   ]
  },
  {
   "cell_type": "markdown",
   "id": "94514341",
   "metadata": {},
   "source": [
    "# Analyzing the age distribution of candidates of the top 15 parties"
   ]
  },
  {
   "cell_type": "code",
   "execution_count": 199,
   "id": "d18c60bd",
   "metadata": {},
   "outputs": [
    {
     "data": {
      "image/png": "[encoded data removed]",
      "text/plain": [
       "<Figure size 1440x1008 with 1 Axes>"
      ]
     },
     "metadata": {},
     "output_type": "display_data"
    }
   ],
   "source": [
    "plt.figure(figsize=(20,14))\n",
    "sns.boxplot(x='PARTY',y='AGE',data=data,order=data.PARTY.value_counts().iloc[:15].index)\n",
    "plt.xlabel('Party')\n",
    "plt.ylabel('Age')\n",
    "plt.xticks(fontsize=20,fontweight='bold')\n",
    "plt.yticks(fontsize=17)\n",
    "plt.xlabel('Party',fontsize=20,fontweight='bold')\n",
    "plt.ylabel('Age',fontsize=20,fontweight='bold')\n",
    "plt.show()"
   ]
  },
  {
   "cell_type": "code",
   "execution_count": 99,
   "id": "5730c62b",
   "metadata": {},
   "outputs": [
    {
     "data": {
      "image/png": "[encoded data removed]",
      "text/plain": [
       "<Figure size 1152x576 with 1 Axes>"
      ]
     },
     "metadata": {},
     "output_type": "display_data"
    }
   ],
   "source": [
    "labels=list(dict(Elec_df['EDUCATION'].value_counts()))\n",
    "d1=list(Elec_df['EDUCATION'].value_counts())\n",
    "plt.figure(figsize=(16,8))\n",
    "plt.pie(d1,labels = labels,shadow=True,autopct='%1.1f%%')\n",
    "plt.title('Educational Background of candidates')\n",
    "plt.show()"
   ]
  },
  {
   "cell_type": "markdown",
   "id": "fd281087",
   "metadata": {},
   "source": [
    "# 4. MODELLING\n",
    "Logistic Regression"
   ]
  },
  {
   "cell_type": "code",
   "execution_count": 100,
   "id": "614bbb36",
   "metadata": {},
   "outputs": [
    {
     "data": {
      "text/plain": [
       "LogisticRegression()"
      ]
     },
     "execution_count": 100,
     "metadata": {},
     "output_type": "execute_result"
    }
   ],
   "source": [
    "from sklearn.linear_model import LogisticRegression\n",
    "logit_model = LogisticRegression()\n",
    "logit_model.fit(X_train,y_train)"
   ]
  },
  {
   "cell_type": "code",
   "execution_count": 101,
   "id": "a57e10dd",
   "metadata": {},
   "outputs": [
    {
     "data": {
      "text/plain": [
       "LogisticRegression()"
      ]
     },
     "execution_count": 101,
     "metadata": {},
     "output_type": "execute_result"
    }
   ],
   "source": [
    "LogisticRegression()"
   ]
  },
  {
   "cell_type": "markdown",
   "id": "dd790062",
   "metadata": {},
   "source": [
    " Predict on Test Set"
   ]
  },
  {
   "cell_type": "code",
   "execution_count": 102,
   "id": "f19e1cfd",
   "metadata": {},
   "outputs": [],
   "source": [
    "y_pred = logit_model.predict(X_test)\n",
    "from sklearn.metrics import confusion_matrix, accuracy_score, precision_score, recall_score, f1_score"
   ]
  },
  {
   "cell_type": "markdown",
   "id": "09f05390",
   "metadata": {},
   "source": [
    "Measuring Accuracy"
   ]
  },
  {
   "cell_type": "code",
   "execution_count": 104,
   "id": "7ea5e33a",
   "metadata": {},
   "outputs": [
    {
     "name": "stdout",
     "output_type": "stream",
     "text": [
      "Accuracy is :  0.8711943793911007\n"
     ]
    }
   ],
   "source": [
    "print('Accuracy is : ',accuracy_score(y_test,y_pred))"
   ]
  },
  {
   "cell_type": "code",
   "execution_count": 105,
   "id": "15b76499",
   "metadata": {},
   "outputs": [
    {
     "data": {
      "text/plain": [
       "array([[305,  28],\n",
       "       [ 27,  67]], dtype=int64)"
      ]
     },
     "execution_count": 105,
     "metadata": {},
     "output_type": "execute_result"
    }
   ],
   "source": [
    "# check matrix values\n",
    "confusion_matrix(y_test,y_pred)"
   ]
  },
  {
   "cell_type": "markdown",
   "id": "04b5a6b2",
   "metadata": {},
   "source": [
    "# KNN Regression"
   ]
  },
  {
   "cell_type": "code",
   "execution_count": 106,
   "id": "1305acf9",
   "metadata": {},
   "outputs": [],
   "source": [
    "from sklearn.neighbors import KNeighborsClassifier\n",
    "acc_values = []\n",
    "neighbors = np.arange(3,15)"
   ]
  },
  {
   "cell_type": "code",
   "execution_count": 107,
   "id": "dc6a51c3",
   "metadata": {},
   "outputs": [],
   "source": [
    "for k in neighbors:\n",
    "    classifier =KNeighborsClassifier(n_neighbors =k, metric='minkowski')\n",
    "    classifier.fit(X_train,y_train)\n",
    "    y_pred = classifier.predict(X_test)\n",
    "    acc = accuracy_score(y_test,y_pred)\n",
    "    acc_values.append(acc)"
   ]
  },
  {
   "cell_type": "code",
   "execution_count": 108,
   "id": "70abdd79",
   "metadata": {},
   "outputs": [
    {
     "data": {
      "text/plain": [
       "[0.8524590163934426,\n",
       " 0.8571428571428571,\n",
       " 0.8641686182669789,\n",
       " 0.8665105386416861,\n",
       " 0.8641686182669789,\n",
       " 0.8665105386416861,\n",
       " 0.8688524590163934,\n",
       " 0.8688524590163934,\n",
       " 0.8711943793911007,\n",
       " 0.8618266978922716,\n",
       " 0.8665105386416861,\n",
       " 0.8688524590163934]"
      ]
     },
     "execution_count": 108,
     "metadata": {},
     "output_type": "execute_result"
    }
   ],
   "source": [
    "acc_values"
   ]
  },
  {
   "cell_type": "code",
   "execution_count": 109,
   "id": "ff31bbf2",
   "metadata": {},
   "outputs": [
    {
     "data": {
      "text/plain": [
       "Text(0, 0.5, 'accuracy')"
      ]
     },
     "execution_count": 109,
     "metadata": {},
     "output_type": "execute_result"
    },
    {
     "data": {
      "image/png": "[encoded data removed]",
      "text/plain": [
       "<Figure size 432x288 with 1 Axes>"
      ]
     },
     "metadata": {},
     "output_type": "display_data"
    }
   ],
   "source": [
    "# check for which k value , we get highest accuracy\n",
    "plt.plot(neighbors,acc_values,'o-')\n",
    "plt.xlabel('K Value')\n",
    "plt.ylabel('accuracy')"
   ]
  },
  {
   "cell_type": "code",
   "execution_count": 110,
   "id": "c080e50e",
   "metadata": {},
   "outputs": [],
   "source": [
    "classifier =KNeighborsClassifier(n_neighbors = 11, metric='minkowski')\n",
    "classifier.fit(X_train,y_train)\n",
    "y_pred = classifier.predict(X_test)"
   ]
  },
  {
   "cell_type": "markdown",
   "id": "799cda4b",
   "metadata": {},
   "source": [
    "Measuring Accurancy for KNN"
   ]
  },
  {
   "cell_type": "code",
   "execution_count": 111,
   "id": "e88da6f4",
   "metadata": {},
   "outputs": [
    {
     "name": "stdout",
     "output_type": "stream",
     "text": [
      "Accuracy is :  0.8711943793911007\n"
     ]
    }
   ],
   "source": [
    "print('Accuracy is : ',accuracy_score(y_test,y_pred))"
   ]
  },
  {
   "cell_type": "code",
   "execution_count": 112,
   "id": "6cb9e7c0",
   "metadata": {},
   "outputs": [
    {
     "data": {
      "text/plain": [
       "array([[308,  25],\n",
       "       [ 30,  64]], dtype=int64)"
      ]
     },
     "execution_count": 112,
     "metadata": {},
     "output_type": "execute_result"
    }
   ],
   "source": [
    "# check matrix values\n",
    "confusion_matrix(y_test,y_pred)"
   ]
  },
  {
   "cell_type": "code",
   "execution_count": 113,
   "id": "a4d37f23",
   "metadata": {},
   "outputs": [
    {
     "data": {
      "text/html": [
       "<div>\n",
       "<style scoped>\n",
       "    .dataframe tbody tr th:only-of-type {\n",
       "        vertical-align: middle;\n",
       "    }\n",
       "\n",
       "    .dataframe tbody tr th {\n",
       "        vertical-align: top;\n",
       "    }\n",
       "\n",
       "    .dataframe thead th {\n",
       "        text-align: right;\n",
       "    }\n",
       "</style>\n",
       "<table border=\"1\" class=\"dataframe\">\n",
       "  <thead>\n",
       "    <tr style=\"text-align: right;\">\n",
       "      <th></th>\n",
       "      <th>WINNER</th>\n",
       "      <th>AGE</th>\n",
       "      <th>LIABILITIES</th>\n",
       "      <th>TOTAL_ELECTORS</th>\n",
       "      <th>GENDER_MALE</th>\n",
       "      <th>CATEGORY_SC</th>\n",
       "      <th>CATEGORY_ST</th>\n",
       "      <th>PARTY_AIADMK</th>\n",
       "      <th>PARTY_AITC</th>\n",
       "      <th>PARTY_BJD</th>\n",
       "      <th>...</th>\n",
       "      <th>PARTY_YSRCP</th>\n",
       "      <th>EDUCATION_12th Pass</th>\n",
       "      <th>EDUCATION_5th Pass</th>\n",
       "      <th>EDUCATION_8th Pass</th>\n",
       "      <th>EDUCATION_Doctorate</th>\n",
       "      <th>EDUCATION_Graduate</th>\n",
       "      <th>EDUCATION_Graduate Professional</th>\n",
       "      <th>EDUCATION_Illiterate</th>\n",
       "      <th>EDUCATION_Literate</th>\n",
       "      <th>EDUCATION_Post Graduate</th>\n",
       "    </tr>\n",
       "  </thead>\n",
       "  <tbody>\n",
       "    <tr>\n",
       "      <th>count</th>\n",
       "      <td>1707.000000</td>\n",
       "      <td>1707.000000</td>\n",
       "      <td>1.707000e+03</td>\n",
       "      <td>1.707000e+03</td>\n",
       "      <td>1707.000000</td>\n",
       "      <td>1707.000000</td>\n",
       "      <td>1707.000000</td>\n",
       "      <td>1707.000000</td>\n",
       "      <td>1707.000000</td>\n",
       "      <td>1707.000000</td>\n",
       "      <td>...</td>\n",
       "      <td>1707.000000</td>\n",
       "      <td>1707.000000</td>\n",
       "      <td>1707.000000</td>\n",
       "      <td>1707.000000</td>\n",
       "      <td>1707.000000</td>\n",
       "      <td>1707.000000</td>\n",
       "      <td>1707.000000</td>\n",
       "      <td>1707.000000</td>\n",
       "      <td>1707.000000</td>\n",
       "      <td>1707.000000</td>\n",
       "    </tr>\n",
       "    <tr>\n",
       "      <th>mean</th>\n",
       "      <td>0.246632</td>\n",
       "      <td>52.171646</td>\n",
       "      <td>1.978619e+06</td>\n",
       "      <td>1.647403e+06</td>\n",
       "      <td>0.871119</td>\n",
       "      <td>0.213240</td>\n",
       "      <td>0.133568</td>\n",
       "      <td>0.008202</td>\n",
       "      <td>0.025776</td>\n",
       "      <td>0.011131</td>\n",
       "      <td>...</td>\n",
       "      <td>0.006444</td>\n",
       "      <td>0.124194</td>\n",
       "      <td>0.014646</td>\n",
       "      <td>0.042765</td>\n",
       "      <td>0.038664</td>\n",
       "      <td>0.216169</td>\n",
       "      <td>0.166960</td>\n",
       "      <td>0.039250</td>\n",
       "      <td>0.015231</td>\n",
       "      <td>0.246632</td>\n",
       "    </tr>\n",
       "    <tr>\n",
       "      <th>std</th>\n",
       "      <td>0.431177</td>\n",
       "      <td>12.032311</td>\n",
       "      <td>3.195276e+06</td>\n",
       "      <td>3.067866e+05</td>\n",
       "      <td>0.335166</td>\n",
       "      <td>0.409716</td>\n",
       "      <td>0.340287</td>\n",
       "      <td>0.090217</td>\n",
       "      <td>0.158513</td>\n",
       "      <td>0.104944</td>\n",
       "      <td>...</td>\n",
       "      <td>0.080039</td>\n",
       "      <td>0.329900</td>\n",
       "      <td>0.120165</td>\n",
       "      <td>0.202386</td>\n",
       "      <td>0.192850</td>\n",
       "      <td>0.411751</td>\n",
       "      <td>0.373049</td>\n",
       "      <td>0.194246</td>\n",
       "      <td>0.122508</td>\n",
       "      <td>0.431177</td>\n",
       "    </tr>\n",
       "    <tr>\n",
       "      <th>min</th>\n",
       "      <td>0.000000</td>\n",
       "      <td>25.000000</td>\n",
       "      <td>0.000000e+00</td>\n",
       "      <td>5.518900e+04</td>\n",
       "      <td>0.000000</td>\n",
       "      <td>0.000000</td>\n",
       "      <td>0.000000</td>\n",
       "      <td>0.000000</td>\n",
       "      <td>0.000000</td>\n",
       "      <td>0.000000</td>\n",
       "      <td>...</td>\n",
       "      <td>0.000000</td>\n",
       "      <td>0.000000</td>\n",
       "      <td>0.000000</td>\n",
       "      <td>0.000000</td>\n",
       "      <td>0.000000</td>\n",
       "      <td>0.000000</td>\n",
       "      <td>0.000000</td>\n",
       "      <td>0.000000</td>\n",
       "      <td>0.000000</td>\n",
       "      <td>0.000000</td>\n",
       "    </tr>\n",
       "    <tr>\n",
       "      <th>25%</th>\n",
       "      <td>0.000000</td>\n",
       "      <td>43.000000</td>\n",
       "      <td>0.000000e+00</td>\n",
       "      <td>1.525150e+06</td>\n",
       "      <td>1.000000</td>\n",
       "      <td>0.000000</td>\n",
       "      <td>0.000000</td>\n",
       "      <td>0.000000</td>\n",
       "      <td>0.000000</td>\n",
       "      <td>0.000000</td>\n",
       "      <td>...</td>\n",
       "      <td>0.000000</td>\n",
       "      <td>0.000000</td>\n",
       "      <td>0.000000</td>\n",
       "      <td>0.000000</td>\n",
       "      <td>0.000000</td>\n",
       "      <td>0.000000</td>\n",
       "      <td>0.000000</td>\n",
       "      <td>0.000000</td>\n",
       "      <td>0.000000</td>\n",
       "      <td>0.000000</td>\n",
       "    </tr>\n",
       "    <tr>\n",
       "      <th>50%</th>\n",
       "      <td>0.000000</td>\n",
       "      <td>53.000000</td>\n",
       "      <td>4.166120e+05</td>\n",
       "      <td>1.683325e+06</td>\n",
       "      <td>1.000000</td>\n",
       "      <td>0.000000</td>\n",
       "      <td>0.000000</td>\n",
       "      <td>0.000000</td>\n",
       "      <td>0.000000</td>\n",
       "      <td>0.000000</td>\n",
       "      <td>...</td>\n",
       "      <td>0.000000</td>\n",
       "      <td>0.000000</td>\n",
       "      <td>0.000000</td>\n",
       "      <td>0.000000</td>\n",
       "      <td>0.000000</td>\n",
       "      <td>0.000000</td>\n",
       "      <td>0.000000</td>\n",
       "      <td>0.000000</td>\n",
       "      <td>0.000000</td>\n",
       "      <td>0.000000</td>\n",
       "    </tr>\n",
       "    <tr>\n",
       "      <th>75%</th>\n",
       "      <td>0.000000</td>\n",
       "      <td>61.000000</td>\n",
       "      <td>2.500000e+06</td>\n",
       "      <td>1.811851e+06</td>\n",
       "      <td>1.000000</td>\n",
       "      <td>0.000000</td>\n",
       "      <td>0.000000</td>\n",
       "      <td>0.000000</td>\n",
       "      <td>0.000000</td>\n",
       "      <td>0.000000</td>\n",
       "      <td>...</td>\n",
       "      <td>0.000000</td>\n",
       "      <td>0.000000</td>\n",
       "      <td>0.000000</td>\n",
       "      <td>0.000000</td>\n",
       "      <td>0.000000</td>\n",
       "      <td>0.000000</td>\n",
       "      <td>0.000000</td>\n",
       "      <td>0.000000</td>\n",
       "      <td>0.000000</td>\n",
       "      <td>0.000000</td>\n",
       "    </tr>\n",
       "    <tr>\n",
       "      <th>max</th>\n",
       "      <td>1.000000</td>\n",
       "      <td>86.000000</td>\n",
       "      <td>1.516338e+07</td>\n",
       "      <td>3.150313e+06</td>\n",
       "      <td>1.000000</td>\n",
       "      <td>1.000000</td>\n",
       "      <td>1.000000</td>\n",
       "      <td>1.000000</td>\n",
       "      <td>1.000000</td>\n",
       "      <td>1.000000</td>\n",
       "      <td>...</td>\n",
       "      <td>1.000000</td>\n",
       "      <td>1.000000</td>\n",
       "      <td>1.000000</td>\n",
       "      <td>1.000000</td>\n",
       "      <td>1.000000</td>\n",
       "      <td>1.000000</td>\n",
       "      <td>1.000000</td>\n",
       "      <td>1.000000</td>\n",
       "      <td>1.000000</td>\n",
       "      <td>1.000000</td>\n",
       "    </tr>\n",
       "  </tbody>\n",
       "</table>\n",
       "<p>8 rows × 37 columns</p>\n",
       "</div>"
      ],
      "text/plain": [
       "            WINNER          AGE   LIABILITIES  TOTAL_ELECTORS  GENDER_MALE  \\\n",
       "count  1707.000000  1707.000000  1.707000e+03    1.707000e+03  1707.000000   \n",
       "mean      0.246632    52.171646  1.978619e+06    1.647403e+06     0.871119   \n",
       "std       0.431177    12.032311  3.195276e+06    3.067866e+05     0.335166   \n",
       "min       0.000000    25.000000  0.000000e+00    5.518900e+04     0.000000   \n",
       "25%       0.000000    43.000000  0.000000e+00    1.525150e+06     1.000000   \n",
       "50%       0.000000    53.000000  4.166120e+05    1.683325e+06     1.000000   \n",
       "75%       0.000000    61.000000  2.500000e+06    1.811851e+06     1.000000   \n",
       "max       1.000000    86.000000  1.516338e+07    3.150313e+06     1.000000   \n",
       "\n",
       "       CATEGORY_SC  CATEGORY_ST  PARTY_AIADMK   PARTY_AITC    PARTY_BJD  ...  \\\n",
       "count  1707.000000  1707.000000   1707.000000  1707.000000  1707.000000  ...   \n",
       "mean      0.213240     0.133568      0.008202     0.025776     0.011131  ...   \n",
       "std       0.409716     0.340287      0.090217     0.158513     0.104944  ...   \n",
       "min       0.000000     0.000000      0.000000     0.000000     0.000000  ...   \n",
       "25%       0.000000     0.000000      0.000000     0.000000     0.000000  ...   \n",
       "50%       0.000000     0.000000      0.000000     0.000000     0.000000  ...   \n",
       "75%       0.000000     0.000000      0.000000     0.000000     0.000000  ...   \n",
       "max       1.000000     1.000000      1.000000     1.000000     1.000000  ...   \n",
       "\n",
       "       PARTY_YSRCP  EDUCATION_12th Pass  EDUCATION_5th Pass  \\\n",
       "count  1707.000000          1707.000000         1707.000000   \n",
       "mean      0.006444             0.124194            0.014646   \n",
       "std       0.080039             0.329900            0.120165   \n",
       "min       0.000000             0.000000            0.000000   \n",
       "25%       0.000000             0.000000            0.000000   \n",
       "50%       0.000000             0.000000            0.000000   \n",
       "75%       0.000000             0.000000            0.000000   \n",
       "max       1.000000             1.000000            1.000000   \n",
       "\n",
       "       EDUCATION_8th Pass  EDUCATION_Doctorate  EDUCATION_Graduate  \\\n",
       "count         1707.000000          1707.000000         1707.000000   \n",
       "mean             0.042765             0.038664            0.216169   \n",
       "std              0.202386             0.192850            0.411751   \n",
       "min              0.000000             0.000000            0.000000   \n",
       "25%              0.000000             0.000000            0.000000   \n",
       "50%              0.000000             0.000000            0.000000   \n",
       "75%              0.000000             0.000000            0.000000   \n",
       "max              1.000000             1.000000            1.000000   \n",
       "\n",
       "       EDUCATION_Graduate Professional  EDUCATION_Illiterate  \\\n",
       "count                      1707.000000           1707.000000   \n",
       "mean                          0.166960              0.039250   \n",
       "std                           0.373049              0.194246   \n",
       "min                           0.000000              0.000000   \n",
       "25%                           0.000000              0.000000   \n",
       "50%                           0.000000              0.000000   \n",
       "75%                           0.000000              0.000000   \n",
       "max                           1.000000              1.000000   \n",
       "\n",
       "       EDUCATION_Literate  EDUCATION_Post Graduate  \n",
       "count         1707.000000              1707.000000  \n",
       "mean             0.015231                 0.246632  \n",
       "std              0.122508                 0.431177  \n",
       "min              0.000000                 0.000000  \n",
       "25%              0.000000                 0.000000  \n",
       "50%              0.000000                 0.000000  \n",
       "75%              0.000000                 0.000000  \n",
       "max              1.000000                 1.000000  \n",
       "\n",
       "[8 rows x 37 columns]"
      ]
     },
     "execution_count": 113,
     "metadata": {},
     "output_type": "execute_result"
    }
   ],
   "source": [
    "df.describe()"
   ]
  },
  {
   "cell_type": "markdown",
   "id": "1d575bf7",
   "metadata": {},
   "source": [
    "# Decision Tree"
   ]
  },
  {
   "cell_type": "code",
   "execution_count": 114,
   "id": "21ca9504",
   "metadata": {},
   "outputs": [
    {
     "name": "stdout",
     "output_type": "stream",
     "text": [
      "Accuracy is :  0.7868852459016393\n"
     ]
    }
   ],
   "source": [
    "from sklearn.tree import DecisionTreeClassifier\n",
    "dt_model = DecisionTreeClassifier()\n",
    "dt_model.fit(X_train,y_train)\n",
    "y_pred=dt_model.predict(X_test)\n",
    "print('Accuracy is : ',accuracy_score(y_test,y_pred))"
   ]
  },
  {
   "cell_type": "code",
   "execution_count": 116,
   "id": "b2b25ce1",
   "metadata": {},
   "outputs": [
    {
     "data": {
      "text/plain": [
       "array([[272,  61],\n",
       "       [ 30,  64]], dtype=int64)"
      ]
     },
     "execution_count": 116,
     "metadata": {},
     "output_type": "execute_result"
    }
   ],
   "source": [
    "confusion_matrix(y_test,y_pred)"
   ]
  },
  {
   "cell_type": "markdown",
   "id": "96dcce7a",
   "metadata": {},
   "source": [
    "# SVM\n",
    "Linear SVM"
   ]
  },
  {
   "cell_type": "code",
   "execution_count": 117,
   "id": "72a6ed3b",
   "metadata": {},
   "outputs": [
    {
     "name": "stdout",
     "output_type": "stream",
     "text": [
      "Accuracy using linear svm is:  0.8711943793911007\n"
     ]
    }
   ],
   "source": [
    "from sklearn.svm import SVC\n",
    "svm_linear = SVC(kernel ='linear')\n",
    "svm_linear.fit(X_train,y_train)\n",
    "y_pred =svm_linear.predict(X_test)\n",
    "print('Accuracy using linear svm is: ',accuracy_score(y_test,y_pred))"
   ]
  },
  {
   "cell_type": "markdown",
   "id": "7ed547e3",
   "metadata": {},
   "source": [
    "# Random Forest"
   ]
  },
  {
   "cell_type": "code",
   "execution_count": 118,
   "id": "14805731",
   "metadata": {},
   "outputs": [
    {
     "name": "stdout",
     "output_type": "stream",
     "text": [
      "Accuracy: 0.8735362997658079\n"
     ]
    }
   ],
   "source": [
    "#Import Random Forest Model\n",
    "from sklearn.ensemble import RandomForestClassifier\n",
    "#Create a Gaussian Classifier\n",
    "clf=RandomForestClassifier(n_estimators=100)\n",
    "clf.fit(X_train,y_train)\n",
    "y_pred=clf.predict(X_test)\n",
    "print(\"Accuracy:\",accuracy_score(y_test, y_pred))"
   ]
  },
  {
   "cell_type": "markdown",
   "id": "f9f983a0",
   "metadata": {},
   "source": [
    "# Gradient Boosting"
   ]
  },
  {
   "cell_type": "code",
   "execution_count": 119,
   "id": "0f5580b1",
   "metadata": {},
   "outputs": [],
   "source": [
    "from sklearn.ensemble  import GradientBoostingClassifier\n",
    "gb = GradientBoostingClassifier()"
   ]
  },
  {
   "cell_type": "code",
   "execution_count": 120,
   "id": "baf58b8f",
   "metadata": {},
   "outputs": [
    {
     "name": "stdout",
     "output_type": "stream",
     "text": [
      "Accuracy: 0.8735362997658079\n"
     ]
    }
   ],
   "source": [
    "gb.fit(X_train,y_train)\n",
    "y_pred=clf.predict(X_test)\n",
    "print(\"Accuracy:\",accuracy_score(y_test, y_pred))"
   ]
  },
  {
   "cell_type": "markdown",
   "id": "eb2655ad",
   "metadata": {},
   "source": [
    "Since all has similar accuracy, lets choose random forest and finde tune it"
   ]
  },
  {
   "cell_type": "markdown",
   "id": "c5a9f500",
   "metadata": {},
   "source": [
    "# 5. MODEL FINE TUNING\n",
    "Randon Classifier Fine Tuning"
   ]
  },
  {
   "cell_type": "code",
   "execution_count": 122,
   "id": "7fe51f1c",
   "metadata": {},
   "outputs": [
    {
     "data": {
      "text/plain": [
       "RandomForestClassifier(criterion='entropy', max_depth=10, n_estimators=500,\n",
       "                       random_state=42)"
      ]
     },
     "execution_count": 122,
     "metadata": {},
     "output_type": "execute_result"
    }
   ],
   "source": [
    "clf=RandomForestClassifier(n_estimators=500,max_depth=10,random_state=42,criterion='entropy')\n",
    "clf.fit(X_train,y_train)"
   ]
  },
  {
   "cell_type": "code",
   "execution_count": 123,
   "id": "ce8842fb",
   "metadata": {},
   "outputs": [
    {
     "name": "stdout",
     "output_type": "stream",
     "text": [
      "Accuracy: 0.8852459016393442\n"
     ]
    }
   ],
   "source": [
    "y_pred=clf.predict(X_test)\n",
    "print(\"Accuracy:\",accuracy_score(y_test, y_pred))"
   ]
  },
  {
   "cell_type": "markdown",
   "id": "f1331bf2",
   "metadata": {},
   "source": [
    "There is an improvement in our accuracy of model"
   ]
  },
  {
   "cell_type": "markdown",
   "id": "32243973",
   "metadata": {},
   "source": [
    "Gradient Boosting Fine Tuning"
   ]
  },
  {
   "cell_type": "code",
   "execution_count": 124,
   "id": "306da80a",
   "metadata": {},
   "outputs": [],
   "source": [
    "gb = GradientBoostingClassifier(max_depth=10,learning_rate=.5,n_estimators=500)"
   ]
  },
  {
   "cell_type": "code",
   "execution_count": 125,
   "id": "350e2cd7",
   "metadata": {},
   "outputs": [
    {
     "name": "stdout",
     "output_type": "stream",
     "text": [
      "Accuracy: 0.8852459016393442\n"
     ]
    }
   ],
   "source": [
    "gb.fit(X_train,y_train)\n",
    "y_pred=clf.predict(X_test)\n",
    "print(\"Accuracy:\",accuracy_score(y_test, y_pred))"
   ]
  },
  {
   "cell_type": "markdown",
   "id": "8116ff56",
   "metadata": {},
   "source": [
    "incresed accuracy"
   ]
  },
  {
   "cell_type": "code",
   "execution_count": null,
   "id": "53829562",
   "metadata": {},
   "outputs": [],
   "source": []
  }
 ],
 "metadata": {
  "kernelspec": {
   "display_name": "Python 3",
   "language": "python",
   "name": "python3"
  },
  "language_info": {
   "codemirror_mode": {
    "name": "ipython",
    "version": 3
   },
   "file_extension": ".py",
   "mimetype": "text/x-python",
   "name": "python",
   "nbconvert_exporter": "python",
   "pygments_lexer": "ipython3",
   "version": "3.8.8"
  }
 },
 "nbformat": 4,
 "nbformat_minor": 5
}
